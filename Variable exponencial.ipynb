{
  "cells": [
    {
      "cell_type": "code",
      "execution_count": 1,
      "id": "526a8a72",
      "metadata": {
        "id": "526a8a72"
      },
      "outputs": [],
      "source": [
        "import random as rnd\n",
        "import numpy as np\n",
        "import matplotlib.pyplot as plt"
      ]
    },
    {
      "cell_type": "code",
      "execution_count": 2,
      "id": "3cc7a018",
      "metadata": {
        "id": "3cc7a018"
      },
      "outputs": [],
      "source": [
        "n=10\n",
        "lamda=0.5\n",
        "L=-1/lamda"
      ]
    },
    {
      "cell_type": "code",
      "execution_count": 3,
      "id": "f9d7220f",
      "metadata": {
        "id": "f9d7220f",
        "outputId": "586931eb-cca8-4ee4-f6de-19c4e36f1309",
        "colab": {
          "base_uri": "https://localhost:8080/"
        }
      },
      "outputs": [
        {
          "output_type": "stream",
          "name": "stdout",
          "text": [
            "3.2639380076599154\n",
            "1.5168783117810343\n",
            "1.414136301831754\n",
            "2.3243642043454344\n",
            "3.956011300567552\n",
            "0.21519367336353915\n",
            "5.181727697937647\n",
            "1.162724961944677\n",
            "1.213159407477482\n",
            "0.0026618878451233553\n"
          ]
        }
      ],
      "source": [
        "for i in range(n):\n",
        "    u=rnd.random()\n",
        "    x=L*np.log(u)\n",
        "    print(x)"
      ]
    },
    {
      "cell_type": "code",
      "execution_count": 4,
      "id": "952aaa63",
      "metadata": {
        "id": "952aaa63"
      },
      "outputs": [],
      "source": [
        "def expo(lamda=1,n=10):\n",
        "    L=-1/lamda\n",
        "    lista=[]\n",
        "    for i in range(n):\n",
        "        u=rnd.random()\n",
        "        x=L*np.log(u)\n",
        "        lista.append(x)\n",
        "    return lista"
      ]
    },
    {
      "cell_type": "code",
      "execution_count": 5,
      "id": "6c3273ea",
      "metadata": {
        "id": "6c3273ea"
      },
      "outputs": [],
      "source": [
        "muestra=expo(0.5,50)"
      ]
    },
    {
      "cell_type": "code",
      "execution_count": 5,
      "id": "38be8619",
      "metadata": {
        "id": "38be8619"
      },
      "outputs": [],
      "source": []
    },
    {
      "cell_type": "code",
      "execution_count": 6,
      "id": "04963b3a",
      "metadata": {
        "id": "04963b3a",
        "outputId": "8afbd4e5-a2ae-49da-f7db-0e9ebf794575",
        "colab": {
          "base_uri": "https://localhost:8080/"
        }
      },
      "outputs": [
        {
          "output_type": "stream",
          "name": "stdout",
          "text": [
            "1.7720220415382462\n"
          ]
        }
      ],
      "source": [
        "media=np.mean(muestra)\n",
        "print(media)"
      ]
    },
    {
      "cell_type": "code",
      "execution_count": 7,
      "id": "c3af2714",
      "metadata": {
        "id": "c3af2714",
        "outputId": "877a8b57-110e-409e-97e8-00b63383af22",
        "colab": {
          "base_uri": "https://localhost:8080/"
        }
      },
      "outputs": [
        {
          "output_type": "execute_result",
          "data": {
            "text/plain": [
              "5.014427295755097"
            ]
          },
          "metadata": {},
          "execution_count": 7
        }
      ],
      "source": [
        "np.var(muestra)"
      ]
    },
    {
      "cell_type": "code",
      "execution_count": 14,
      "id": "659af062",
      "metadata": {
        "id": "659af062",
        "outputId": "d454f9eb-4890-461e-b455-1275f30f3d8f",
        "colab": {
          "base_uri": "https://localhost:8080/",
          "height": 517
        }
      },
      "outputs": [
        {
          "output_type": "execute_result",
          "data": {
            "text/plain": [
              "(array([26.,  9.,  9.,  3.,  1.,  0.,  0.,  0.,  0.,  2.]),\n",
              " array([ 0.01773782,  1.12182406,  2.22591029,  3.32999652,  4.43408275,\n",
              "         5.53816898,  6.64225522,  7.74634145,  8.85042768,  9.95451391,\n",
              "        11.05860014]),\n",
              " <BarContainer object of 10 artists>)"
            ]
          },
          "metadata": {},
          "execution_count": 14
        },
        {
          "output_type": "display_data",
          "data": {
            "text/plain": [
              "<Figure size 640x480 with 1 Axes>"
            ],
            "image/png": "[encoded data removed]"
          },
          "metadata": {}
        }
      ],
      "source": [
        "plt.hist(muestra)"
      ]
    },
    {
      "cell_type": "code",
      "execution_count": 9,
      "id": "1bf4eb64",
      "metadata": {
        "id": "1bf4eb64"
      },
      "outputs": [],
      "source": [
        "#Para hacer la distribución acumulativa\n",
        "M=np.sort(muestra)"
      ]
    },
    {
      "cell_type": "code",
      "execution_count": 10,
      "id": "acc98ccb",
      "metadata": {
        "id": "acc98ccb"
      },
      "outputs": [],
      "source": [
        "def cdf(muestra):\n",
        "    n=len(muestra)\n",
        "    x=np.sort(muestra)\n",
        "    y=np.arange(0,n)/n\n",
        "    return x,y"
      ]
    },
    {
      "cell_type": "code",
      "execution_count": 11,
      "id": "b2f831af",
      "metadata": {
        "id": "b2f831af"
      },
      "outputs": [],
      "source": [
        "#print(cdf(muestra))"
      ]
    },
    {
      "cell_type": "code",
      "execution_count": 12,
      "id": "faa272c5",
      "metadata": {
        "id": "faa272c5"
      },
      "outputs": [],
      "source": [
        "x_math,y_math=cdf(muestra)"
      ]
    },
    {
      "cell_type": "code",
      "execution_count": 13,
      "id": "d83a6404",
      "metadata": {
        "id": "d83a6404",
        "outputId": "13cd148c-5308-4216-fc14-8ca218dfe5d7",
        "colab": {
          "base_uri": "https://localhost:8080/",
          "height": 447
        }
      },
      "outputs": [
        {
          "output_type": "execute_result",
          "data": {
            "text/plain": [
              "<matplotlib.lines.Line2D at 0x79dc1e0cfd30>"
            ]
          },
          "metadata": {},
          "execution_count": 13
        },
        {
          "output_type": "display_data",
          "data": {
            "text/plain": [
              "<Figure size 640x480 with 1 Axes>"
            ],
            "image/png": "[encoded data removed]"
          },
          "metadata": {}
        }
      ],
      "source": [
        "plt.step(x_math,y_math)\n",
        "plt.axhline(y=0.5, color='red') #La mediana\n",
        "plt.axvline(x=media,color='green') #La media"
      ]
    },
    {
      "cell_type": "markdown",
      "source": [
        "Ejercicio: Genera la variable con distribución f(x)=e^x/(e-1) con 0<=x<=1"
      ],
      "metadata": {
        "id": "ZmVTATH-2MrC"
      },
      "id": "ZmVTATH-2MrC"
    },
    {
      "cell_type": "code",
      "execution_count": 15,
      "id": "35db7d36",
      "metadata": {
        "id": "35db7d36"
      },
      "outputs": [],
      "source": [
        "# Función para generar una variable aleatoria con la distribución especificada\n",
        "def generate_variable(n=1):\n",
        "    # Generar n números aleatorios uniformemente distribuidos entre 0 y 1\n",
        "    u = np.random.uniform(0, 1, n)\n",
        "\n",
        "    # Aplicar la función inversa de la CDF\n",
        "    # F^-1(u) = ln((e - 1) * u + 1)\n",
        "    e_minus_1 = np.exp(1) - 1\n",
        "    x = np.log((e_minus_1 * u) + 1)\n",
        "\n",
        "    return x"
      ]
    },
    {
      "cell_type": "code",
      "execution_count": 16,
      "id": "ccb2ff54",
      "metadata": {
        "id": "ccb2ff54"
      },
      "outputs": [],
      "source": [
        "# Generar 1000 muestras de la distribución especificada\n",
        "samples = generate_variable(1000)"
      ]
    },
    {
      "cell_type": "code",
      "source": [
        "# Visualizar un histograma de las muestras\n",
        "plt.hist(samples, bins=30, density=True, alpha=0.7, color='blue', label='Muestras')"
      ],
      "metadata": {
        "id": "5YDrZzYk2l5m",
        "outputId": "d8c84e8b-e7b4-41c0-cce5-042663f308de",
        "colab": {
          "base_uri": "https://localhost:8080/",
          "height": 673
        }
      },
      "id": "5YDrZzYk2l5m",
      "execution_count": 17,
      "outputs": [
        {
          "output_type": "execute_result",
          "data": {
            "text/plain": [
              "(array([0.6020267 , 0.45152003, 0.6020267 , 0.42141869, 0.75253338,\n",
              "        0.63212804, 0.66222937, 0.78263472, 0.69233071, 0.87293872,\n",
              "        0.93314139, 0.78263472, 0.84283739, 0.84283739, 0.93314139,\n",
              "        1.26425608, 0.81273605, 0.90304006, 1.1137494 , 0.81273605,\n",
              "        1.23415474, 0.96324273, 1.41476276, 1.23415474, 1.38466142,\n",
              "        1.23415474, 1.56526943, 1.44486409, 2.10709347, 1.80608011]),\n",
              " array([0.00309504, 0.03631616, 0.06953728, 0.10275839, 0.13597951,\n",
              "        0.16920063, 0.20242175, 0.23564287, 0.26886398, 0.3020851 ,\n",
              "        0.33530622, 0.36852734, 0.40174845, 0.43496957, 0.46819069,\n",
              "        0.50141181, 0.53463292, 0.56785404, 0.60107516, 0.63429628,\n",
              "        0.66751739, 0.70073851, 0.73395963, 0.76718075, 0.80040187,\n",
              "        0.83362298, 0.8668441 , 0.90006522, 0.93328634, 0.96650745,\n",
              "        0.99972857]),\n",
              " <BarContainer object of 30 artists>)"
            ]
          },
          "metadata": {},
          "execution_count": 17
        },
        {
          "output_type": "display_data",
          "data": {
            "text/plain": [
              "<Figure size 640x480 with 1 Axes>"
            ],
            "image/png": "[encoded data removed]"
          },
          "metadata": {}
        }
      ]
    },
    {
      "cell_type": "code",
      "source": [
        "# Superponer la función de densidad de probabilidad esperada para verificar la distribución\n",
        "x = np.linspace(0, 1, 100)\n",
        "f_x = np.exp(x) / (np.exp(1) - 1)\n",
        "plt.plot(x, f_x, color='red', label=r'$f(x) = \\frac{e^x}{e - 1}$')"
      ],
      "metadata": {
        "id": "ycVDkXzy2p3X",
        "outputId": "a5ba080b-3b85-4b23-c23c-6c74dbb5ef16",
        "colab": {
          "base_uri": "https://localhost:8080/",
          "height": 447
        }
      },
      "id": "ycVDkXzy2p3X",
      "execution_count": 18,
      "outputs": [
        {
          "output_type": "execute_result",
          "data": {
            "text/plain": [
              "[<matplotlib.lines.Line2D at 0x79dc1dd99720>]"
            ]
          },
          "metadata": {},
          "execution_count": 18
        },
        {
          "output_type": "display_data",
          "data": {
            "text/plain": [
              "<Figure size 640x480 with 1 Axes>"
            ],
            "image/png": "[encoded data removed]"
          },
          "metadata": {}
        }
      ]
    },
    {
      "cell_type": "code",
      "source": [
        "plt.xlabel('x')\n",
        "plt.ylabel('Densidad')\n",
        "plt.title('Histograma y función de densidad de probabilidad')\n",
        "plt.legend()\n",
        "plt.show()"
      ],
      "metadata": {
        "id": "Enwx8tOS2snh",
        "outputId": "67f47893-aa3e-4d15-907e-a8de50f79b13",
        "colab": {
          "base_uri": "https://localhost:8080/",
          "height": 489
        }
      },
      "id": "Enwx8tOS2snh",
      "execution_count": 19,
      "outputs": [
        {
          "output_type": "stream",
          "name": "stderr",
          "text": [
            "WARNING:matplotlib.legend:No artists with labels found to put in legend.  Note that artists whose label start with an underscore are ignored when legend() is called with no argument.\n"
          ]
        },
        {
          "output_type": "display_data",
          "data": {
            "text/plain": [
              "<Figure size 640x480 with 1 Axes>"
            ],
            "image/png": "[encoded data removed]"
          },
          "metadata": {}
        }
      ]
    }
  ],
  "metadata": {
    "kernelspec": {
      "display_name": "Python 3 (ipykernel)",
      "language": "python",
      "name": "python3"
    },
    "language_info": {
      "codemirror_mode": {
        "name": "ipython",
        "version": 3
      },
      "file_extension": ".py",
      "mimetype": "text/x-python",
      "name": "python",
      "nbconvert_exporter": "python",
      "pygments_lexer": "ipython3",
      "version": "3.7.3"
    },
    "colab": {
      "provenance": []
    }
  },
  "nbformat": 4,
  "nbformat_minor": 5
}