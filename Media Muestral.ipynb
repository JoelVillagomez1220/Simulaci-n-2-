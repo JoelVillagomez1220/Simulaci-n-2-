{
  "cells": [
    {
      "cell_type": "markdown",
      "id": "a5cc0a87",
      "metadata": {
        "id": "a5cc0a87"
      },
      "source": [
        "# Metodología de la Simulación"
      ]
    },
    {
      "cell_type": "markdown",
      "id": "0e218d98",
      "metadata": {
        "id": "0e218d98"
      },
      "source": [
        "### 1. Identifique las variables\n",
        "\n",
        "Aquellas cuyo comportamiento define el comportamiento o la evoución global del sistema real."
      ]
    },
    {
      "cell_type": "markdown",
      "id": "3ebcd0f2",
      "metadata": {
        "id": "3ebcd0f2"
      },
      "source": [
        "### 2. Determine la distribución de probabilidad\n",
        "\n",
        "Elija el tipo de distribución de probabilidad que mejor defina el comportamiento aleatorio de cada una de las variables del sistema identificadas en el paso anterior."
      ]
    },
    {
      "cell_type": "markdown",
      "id": "803801d5",
      "metadata": {
        "id": "803801d5"
      },
      "source": [
        "### 3. Modele las variables aleatorias\n",
        "\n",
        "Cosntruya un modelo fiel de la aleatoriedad de las variables del sistema. Simular el comportamiento del sistema implica generar muestras aleatorias de cada variable que sigan fielmente la distribución de probabilidad correspondiente."
      ]
    },
    {
      "cell_type": "markdown",
      "id": "33709223",
      "metadata": {
        "id": "33709223"
      },
      "source": [
        "### 4. Defina el modelo del sistema y los objetivos de la simulación\n",
        "\n",
        "Fije los objetivos y diseñe un modelo del sistema real que abstraiga sus propiedades más relevantes. Todo error en el modelo (o su implementación computacional) puede dar lugar a conclusiones equivocadas.\n",
        "\n",
        "Antes de experimentar con el modelo, asegurarse de que refleja fielmente el sistema real **validando** el mismo a partir de datos reales, para ello compare los resultados obtenidos de la simulación con los producidos por el sistema."
      ]
    },
    {
      "cell_type": "markdown",
      "id": "7f853065",
      "metadata": {
        "id": "7f853065"
      },
      "source": [
        "### 5. Diseñe el experimento\n",
        "\n",
        "Diseñe un experimento así como las ejecuciones concretas del mismo, los escenarios que desea estudiar para alcanzar los objetivos fijados. El experimento consiste en generar valores de las variables cuyo comportamiento define el comportamiento del sistema y analizar este ante dichos valores."
      ]
    },
    {
      "cell_type": "markdown",
      "id": "15ae61c8",
      "metadata": {
        "id": "15ae61c8"
      },
      "source": [
        "### 6. Repita el experimento $n$ veces\n",
        "\n",
        "Así dispondrá de $n$ observaciones sobre el comportamiento del sistema, lo que permitirá entender su funcionamiento así como evaluar el desempeño del mismo frente a los diversos escenarios establecidos.\n",
        "\n",
        "El **método Monte Carlo** se basa en la **Ley Fuerte de los Grandes Números** y el **Teorema del Límite Central**."
      ]
    },
    {
      "cell_type": "markdown",
      "id": "51ce3fa1",
      "metadata": {
        "id": "51ce3fa1"
      },
      "source": [
        "## Media Muestral\n",
        "teta=Integral de 0 a 1 f(x)dx\n",
        "\n",
        "1. Analíticamente.\n",
        "2. Mediante simulación."
      ]
    },
    {
      "cell_type": "markdown",
      "id": "6f1b4105",
      "metadata": {
        "id": "6f1b4105"
      },
      "source": [
        "Analiticamente:"
      ]
    },
    {
      "cell_type": "markdown",
      "id": "fbbc8571",
      "metadata": {
        "id": "fbbc8571"
      },
      "source": [
        "**PASO 1**. Defina las variables que intervienen en el modelo."
      ]
    },
    {
      "cell_type": "markdown",
      "source": [
        "Variable x"
      ],
      "metadata": {
        "id": "yfRYfHByWP8r"
      },
      "id": "yfRYfHByWP8r"
    },
    {
      "cell_type": "markdown",
      "id": "4d3899f3",
      "metadata": {
        "id": "4d3899f3"
      },
      "source": [
        "**PASO 2**. Formule la distribución de probabilidad de cada variable."
      ]
    },
    {
      "cell_type": "markdown",
      "id": "fefa1334",
      "metadata": {
        "id": "fefa1334"
      },
      "source": [
        "Uniforme"
      ]
    },
    {
      "cell_type": "markdown",
      "id": "fd02116a",
      "metadata": {
        "id": "fd02116a"
      },
      "source": [
        "**PASO 3**. Enumere la distribución acumulada de probabilidad de cada variable."
      ]
    },
    {
      "cell_type": "markdown",
      "id": "59e252c6",
      "metadata": {
        "id": "59e252c6"
      },
      "source": [
        "F(x)=x para 0<=x<=1\n",
        "\n",
        "\n"
      ]
    },
    {
      "cell_type": "markdown",
      "id": "4852dcac",
      "metadata": {
        "id": "4852dcac"
      },
      "source": [
        "**PASO 4**. Establezca el intervalo de números aleatorios correspondiente a cada valor de cada una de las variables."
      ]
    },
    {
      "cell_type": "markdown",
      "id": "905db069",
      "metadata": {
        "id": "905db069"
      },
      "source": [
        "de [0, 1]\n"
      ]
    },
    {
      "cell_type": "markdown",
      "id": "edb6b074",
      "metadata": {
        "id": "edb6b074"
      },
      "source": [
        "**PASO 5**. Genere números aleatorios."
      ]
    },
    {
      "cell_type": "code",
      "execution_count": 16,
      "id": "7d56c432",
      "metadata": {
        "id": "7d56c432"
      },
      "outputs": [],
      "source": [
        "import numpy as np\n",
        "import matplotlib.pyplot as plt\n",
        "\n",
        "n_simulations = 1000\n",
        "\n",
        "def f(x):\n",
        "    return (np.exp(x) - 1) / (np.exp(1) - 1)\n",
        "a = 0\n",
        "b = 1\n",
        "\n",
        "integral_values = []\n",
        "for _ in range(n_simulations):\n",
        "\n",
        "    x_random = np.random.uniform(a, b)\n",
        "    integral_values.append((b - a) * f(x_random))\n",
        "\n"
      ]
    },
    {
      "cell_type": "markdown",
      "id": "f38f3396",
      "metadata": {
        "id": "f38f3396"
      },
      "source": [
        "**PASO 6**. Simule un lanzamiento."
      ]
    },
    {
      "cell_type": "markdown",
      "id": "d270399e",
      "metadata": {
        "id": "d270399e"
      },
      "source": [
        "**PASO 7**. Obtenga la gráfica de estabilización que indica que el tamaño de muestra utilizado es suficiente para\n",
        "garantizar la convergencia del resultado."
      ]
    },
    {
      "cell_type": "code",
      "source": [
        "plt.plot(np.arange(1, n_simulations + 1), np.cumsum(integral_values) / np.arange(1, n_simulations + 1))\n",
        "plt.axhline(y=np.mean(integral_values), color='r', linestyle='--')\n",
        "plt.xlabel('Número de simulaciones')\n",
        "plt.ylabel('Aproximación de la integral')\n",
        "plt.title('Convergencia hacia la integral')\n",
        "plt.show()\n"
      ],
      "metadata": {
        "id": "zjF-5Lltanxe",
        "outputId": "978e8b49-1eeb-4921-90e1-d6082a2b0588",
        "colab": {
          "base_uri": "https://localhost:8080/",
          "height": 472
        }
      },
      "id": "zjF-5Lltanxe",
      "execution_count": 17,
      "outputs": [
        {
          "output_type": "display_data",
          "data": {
            "text/plain": [
              "<Figure size 640x480 with 1 Axes>"
            ],
            "image/png": "[encoded data removed]"
          },
          "metadata": {}
        }
      ]
    },
    {
      "cell_type": "markdown",
      "source": [
        "**PASO 8**. Replique el modelo."
      ],
      "metadata": {
        "id": "cqDgPnzZFp-_"
      },
      "id": "cqDgPnzZFp-_"
    },
    {
      "cell_type": "code",
      "source": [
        "plt.hist(integral_values, bins=30, edgecolor='black')\n",
        "plt.xlabel('Aproximación de la integral')\n",
        "plt.ylabel('Frecuencia')\n",
        "plt.title('Histograma de Aproximaciones de la Integral')\n",
        "plt.show()"
      ],
      "metadata": {
        "colab": {
          "base_uri": "https://localhost:8080/",
          "height": 472
        },
        "id": "TXcCRvi7GNe2",
        "outputId": "66eda0a3-6f27-446a-c8b9-0346c808b901"
      },
      "id": "TXcCRvi7GNe2",
      "execution_count": 18,
      "outputs": [
        {
          "output_type": "display_data",
          "data": {
            "text/plain": [
              "<Figure size 640x480 with 1 Axes>"
            ],
            "image/png": "[encoded data removed]"
          },
          "metadata": {}
        }
      ]
    },
    {
      "cell_type": "markdown",
      "source": [
        "**PASO 9**. Calcule la probabilidad de que aparezcan dos caras lanzando tres veces una moneda al aire y su desviación estándar."
      ],
      "metadata": {
        "id": "F8xKs8GtF2G-"
      },
      "id": "F8xKs8GtF2G-"
    },
    {
      "cell_type": "code",
      "source": [
        "integral_estimate = np.mean(integral_values)\n",
        "mean_integral = np.mean(integral_values)\n",
        "std_dev_integral = np.std(integral_values)"
      ],
      "metadata": {
        "id": "HUrEFnVKGn_y"
      },
      "id": "HUrEFnVKGn_y",
      "execution_count": 20,
      "outputs": []
    },
    {
      "cell_type": "markdown",
      "source": [
        "**PASO 10**. Halle el intervalo de confianza de la probabilidad de queaparezcan dos caras lanzando tres veces una moneda al aire con un nivel de confianza del 95%."
      ],
      "metadata": {
        "id": "z4GaEIvoF_My"
      },
      "id": "z4GaEIvoF_My"
    },
    {
      "cell_type": "code",
      "source": [
        "confidence_interval_integral = (mean_integral - 1.96 * std_dev_integral / np.sqrt(n_simulations),\n",
        "                                mean_integral + 1.96 * std_dev_integral / np.sqrt(n_simulations))\n",
        "\n",
        "print(\"Valor estimado de la integral:\", integral_estimate)\n",
        "print(\"Media de la integral:\", mean_integral)\n",
        "print(\"Desviación Estándar de la integral:\", std_dev_integral)\n",
        "print(\"Intervalo de confianza al 95% de la integral:\", confidence_interval_integral)"
      ],
      "metadata": {
        "id": "6nKlTOjkKXcD",
        "outputId": "ee7b5ebd-8c6f-4cd0-9c1d-c3922d143830",
        "colab": {
          "base_uri": "https://localhost:8080/"
        }
      },
      "id": "6nKlTOjkKXcD",
      "execution_count": 21,
      "outputs": [
        {
          "output_type": "stream",
          "name": "stdout",
          "text": [
            "Valor estimado de la integral: 0.4105532892268622\n",
            "Media de la integral: 0.4105532892268622\n",
            "Desviación Estándar de la integral: 0.2836692456717803\n",
            "Intervalo de confianza al 95% de la integral: (0.39297128722495434, 0.42813529122877003)\n"
          ]
        }
      ]
    }
  ],
  "metadata": {
    "kernelspec": {
      "display_name": "Python 3 (ipykernel)",
      "language": "python",
      "name": "python3"
    },
    "language_info": {
      "codemirror_mode": {
        "name": "ipython",
        "version": 3
      },
      "file_extension": ".py",
      "mimetype": "text/x-python",
      "name": "python",
      "nbconvert_exporter": "python",
      "pygments_lexer": "ipython3",
      "version": "3.7.3"
    },
    "colab": {
      "provenance": []
    }
  },
  "nbformat": 4,
  "nbformat_minor": 5
}