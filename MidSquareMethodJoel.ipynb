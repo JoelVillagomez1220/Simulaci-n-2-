{
  "nbformat": 4,
  "nbformat_minor": 0,
  "metadata": {
    "colab": {
      "provenance": [],
      "authorship_tag": "ABX9TyP32DdAmpGTgqwhQ1pY+CWx",
      "include_colab_link": true
    },
    "kernelspec": {
      "name": "python3",
      "display_name": "Python 3"
    },
    "language_info": {
      "name": "python"
    }
  },
  "cells": [
    {
      "cell_type": "markdown",
      "metadata": {
        "id": "view-in-github",
        "colab_type": "text"
      },
      "source": [
        "<a href=\"https://colab.research.google.com/github/JoelVillagomez1220/Simulaci-n-2-/blob/main/MidSquareMethodJoel.ipynb\" target=\"_parent\"><img src=\"https://colab.research.google.com/assets/colab-badge.svg\" alt=\"Open In Colab\"/></a>"
      ]
    },
    {
      "cell_type": "code",
      "execution_count": 1,
      "metadata": {
        "colab": {
          "base_uri": "https://localhost:8080/"
        },
        "id": "OZTiPXqbRe_D",
        "outputId": "6af19fc9-9c21-4566-e262-0823d681fb35"
      },
      "outputs": [
        {
          "output_type": "stream",
          "name": "stdout",
          "text": [
            "0. 56942116\n",
            "0. 88755241\n",
            "0. 57032704\n",
            "0. 106929\n",
            "0. 1142761\n",
            "0. 2036329\n",
            "0. 131769\n",
            "0. 1734489\n",
            "0. 53934336\n",
            "0. 87291649\n"
          ]
        }
      ],
      "source": [
        "# -*- coding: utf-8 -*-\n",
        "\"\"\"\n",
        "Created on Mon Feb 19 06:02:06 2024\n",
        "\n",
        "@author: Joel Villagòmez\n",
        "Mid Square Method\n",
        "\"\"\"\n",
        "\n",
        "a = 18754607  # Semilla, numero entero de 8 dígitos\n",
        "i = 0\n",
        "\n",
        "while i <= 9 and a != 0: #i=iteraciones+1\n",
        "    a = a // 100\n",
        "    a = a % 10000\n",
        "    a = a * a\n",
        "    print(\"0.\", a)\n",
        "    i += 1"
      ]
    }
  ]
}