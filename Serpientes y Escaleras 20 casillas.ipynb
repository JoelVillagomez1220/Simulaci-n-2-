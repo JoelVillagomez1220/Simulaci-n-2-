{
  "nbformat": 4,
  "nbformat_minor": 0,
  "metadata": {
    "colab": {
      "provenance": [],
      "authorship_tag": "ABX9TyN5bPfljD2leX3aOxLH410z",
      "include_colab_link": true
    },
    "kernelspec": {
      "name": "python3",
      "display_name": "Python 3"
    },
    "language_info": {
      "name": "python"
    }
  },
  "cells": [
    {
      "cell_type": "markdown",
      "metadata": {
        "id": "view-in-github",
        "colab_type": "text"
      },
      "source": [
        "<a href=\"https://colab.research.google.com/github/JoelVillagomez1220/Simulaci-n-2-/blob/main/Serpientes%20y%20Escaleras%2020%20casillas.ipynb\" target=\"_parent\"><img src=\"https://colab.research.google.com/assets/colab-badge.svg\" alt=\"Open In Colab\"/></a>"
      ]
    },
    {
      "cell_type": "code",
      "execution_count": 1,
      "metadata": {
        "colab": {
          "base_uri": "https://localhost:8080/"
        },
        "id": "NZbZdRqwn52i",
        "outputId": "2818e1c4-cca3-44ef-d1c2-dafdbe3c0221"
      },
      "outputs": [
        {
          "output_type": "stream",
          "name": "stdout",
          "text": [
            "Valor esperado (análisis): 8.2914\n",
            "Valor esperado (simulación): 6.4896\n"
          ]
        }
      ],
      "source": [
        "#Villagómez de Alba Joel Ricardo\n",
        "import numpy as np\n",
        "\n",
        "# Función para el cálculo analítico del valor esperado usando cadenas de Markov\n",
        "def calculo_analitico():\n",
        "    # Número de casillas\n",
        "    n_casillas = 20\n",
        "\n",
        "    # Crear una matriz para el sistema de ecuaciones\n",
        "    A = np.zeros((n_casillas, n_casillas))\n",
        "    b = np.ones(n_casillas)\n",
        "\n",
        "    # Establecer ecuaciones para cada casilla\n",
        "    for i in range(n_casillas - 1):\n",
        "        # Si hay una escalera o serpiente\n",
        "        if i == 2:\n",
        "            A[i, 10] = -1\n",
        "        elif i == 12:\n",
        "            A[i, 3] = -1\n",
        "        elif i == 14:\n",
        "            A[i, 18] = -1\n",
        "        elif i == 16:\n",
        "            A[i, 9] = -1\n",
        "        else:\n",
        "            # Distribución uniforme de la cara del dado\n",
        "            for k in range(1, 7):\n",
        "                if i + k < n_casillas:\n",
        "                    A[i, i + k] = -1 / 6\n",
        "                else:\n",
        "                    # Si supera las casillas, considera llegar a la última casilla\n",
        "                    A[i, n_casillas - 1] += -1 / 6\n",
        "        A[i, i] += 1\n",
        "\n",
        "    # La última casilla tiene un valor esperado de 0 lanzamientos\n",
        "    A[n_casillas - 1, n_casillas - 1] = 1\n",
        "    b[n_casillas - 1] = 0\n",
        "\n",
        "    # Resolver el sistema de ecuaciones\n",
        "    E_N = np.linalg.solve(A, b)\n",
        "\n",
        "    # Valor esperado desde la casilla 1\n",
        "    return E_N[0]\n",
        "\n",
        "# Función para la simulación del juego\n",
        "def simulacion(num_simulaciones):\n",
        "    np.random.seed(42)  # Para reproducibilidad\n",
        "    resultados = []\n",
        "    for _ in range(num_simulaciones):\n",
        "        casilla = 0  # Iniciar en la casilla 1\n",
        "        lanzamientos = 0\n",
        "        while casilla < 19:  # Hasta llegar a la casilla 20\n",
        "            lanzamientos += 1\n",
        "            dado = np.random.randint(1, 7)  # Lanzamiento del dado (1-6)\n",
        "            casilla += dado\n",
        "\n",
        "            # Aplicar reglas de escaleras y serpientes\n",
        "            if casilla == 3:\n",
        "                casilla = 11\n",
        "            elif casilla == 13:\n",
        "                casilla = 4\n",
        "            elif casilla == 15:\n",
        "                casilla = 19\n",
        "            elif casilla == 17:\n",
        "                casilla = 10\n",
        "            elif casilla > 19:\n",
        "                casilla = 19\n",
        "\n",
        "        resultados.append(lanzamientos)\n",
        "\n",
        "    # Valor esperado de los lanzamientos\n",
        "    valor_esperado = np.mean(resultados)\n",
        "    return valor_esperado\n",
        "\n",
        "# Realizar el cálculo analítico\n",
        "valor_esperado_analitico = calculo_analitico()\n",
        "\n",
        "# Realizar la simulación\n",
        "num_simulaciones = 10000\n",
        "valor_esperado_simulacion = simulacion(num_simulaciones)\n",
        "\n",
        "# Imprimir los resultados\n",
        "print(f\"Valor esperado (análisis): {valor_esperado_analitico:.4f}\")\n",
        "print(f\"Valor esperado (simulación): {valor_esperado_simulacion:.4f}\")\n"
      ]
    }
  ]
}