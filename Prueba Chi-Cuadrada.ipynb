{
  "nbformat": 4,
  "nbformat_minor": 0,
  "metadata": {
    "colab": {
      "provenance": [],
      "authorship_tag": "ABX9TyMrVu212jtoPQxOfKbR50C1",
      "include_colab_link": true
    },
    "kernelspec": {
      "name": "python3",
      "display_name": "Python 3"
    },
    "language_info": {
      "name": "python"
    }
  },
  "cells": [
    {
      "cell_type": "markdown",
      "metadata": {
        "id": "view-in-github",
        "colab_type": "text"
      },
      "source": [
        "<a href=\"https://colab.research.google.com/github/JoelVillagomez1220/Simulaci-n-2-/blob/main/Prueba%20Chi-Cuadrada.ipynb\" target=\"_parent\"><img src=\"https://colab.research.google.com/assets/colab-badge.svg\" alt=\"Open In Colab\"/></a>"
      ]
    },
    {
      "cell_type": "code",
      "execution_count": null,
      "metadata": {
        "id": "pHTTjf5XOs1Q"
      },
      "outputs": [],
      "source": [
        "# Joel Ricardo Villagómez de Alba\n",
        "#Prueba Chi Cuadrada\n"
      ]
    },
    {
      "cell_type": "code",
      "source": [
        "#Ejercicio 3\n",
        "\n",
        "#Hipótesis nula (H0): Los datos siguen una distribución uniforme.\n",
        "#Hipótesis alternativa (H1): Los datos no siguen una distribución uniforme.\n",
        "\n",
        "import numpy as np\n",
        "from scipy.stats import chi2\n",
        "\n",
        "# Datos proporcionados\n",
        "data = np.array([38, 33, 25, 5, 69, 35, 98, 52, 12, 79,\n",
        "                 50, 46, 95, 42, 49, 11, 78, 34, 2, 43,\n",
        "                 7, 50, 5, 91, 77, 18, 21, 4, 17, 62,\n",
        "                 91, 36, 48, 88, 52, 76, 99, 73, 82, 90])\n",
        "\n",
        "# Definir intervalos\n",
        "num_intervals = 10\n",
        "interval_limits = np.linspace(min(data), max(data), num_intervals+1)\n",
        "\n",
        "# Contar frecuencia observada en cada intervalo\n",
        "observed_freq, _ = np.histogram(data, bins=interval_limits)\n",
        "\n",
        "# Calcular frecuencia esperada\n",
        "expected_freq = len(data) / num_intervals\n",
        "\n",
        "# Calcular chi^2\n",
        "chi_squared = np.sum((observed_freq - expected_freq)**2 / expected_freq)\n",
        "\n",
        "# Grados de libertad\n",
        "df = num_intervals - 1\n",
        "\n",
        "# Valor crítico para un nivel de significancia del 95%\n",
        "alpha = 0.05\n",
        "critical_value = chi2.ppf(1 - alpha, df)\n",
        "\n",
        "# Comparar con valor crítico\n",
        "if chi_squared > critical_value:\n",
        "    print(f'Rechazar la hipótesis nula. Chi^2 = {chi_squared} > Valor Crítico = {critical_value}')\n",
        "else:\n",
        "    print(f'No se puede rechazar la hipótesis nula. Chi^2 = {chi_squared} <= Valor Crítico = {critical_value}')"
      ],
      "metadata": {
        "colab": {
          "base_uri": "https://localhost:8080/"
        },
        "id": "Dnx7Kj3TPHju",
        "outputId": "8f30a299-42f8-4d40-c00d-63f30b93e41a"
      },
      "execution_count": 1,
      "outputs": [
        {
          "output_type": "stream",
          "name": "stdout",
          "text": [
            "No se puede rechazar la hipótesis nula. Chi^2 = 10.0 <= Valor Crítico = 16.918977604620448\n"
          ]
        }
      ]
    },
    {
      "cell_type": "code",
      "source": [
        "#Ejercicio 4\n",
        "\n",
        "import numpy as np\n",
        "from scipy.stats import chi2\n",
        "\n",
        "# Datos proporcionados\n",
        "data = np.array([0.8797, 0.3884, 0.6289, 0.8750, 0.5999, 0.8589, 0.9996, 0.2415, 0.3808, 0.9606,\n",
        "                 0.9848, 0.3469, 0.7977, 0.5844, 0.8147, 0.6431, 0.7387, 0.5613, 0.0318, 0.7401,\n",
        "                 0.4557, 0.1592, 0.8536, 0.8846, 0.3410, 0.1492, 0.8681, 0.5291, 0.3188, 0.5992,\n",
        "                 0.9170, 0.2204, 0.5991, 0.5461, 0.5739, 0.3254, 0.0856, 0.2258, 0.4603, 0.5027,\n",
        "                 0.8376, 0.6235, 0.3681, 0.2088, 0.1525, 0.2006, 0.4720, 0.4272, 0.6360, 0.0954])\n",
        "\n",
        "# Definir intervalos\n",
        "num_intervals = 10\n",
        "interval_limits = np.linspace(min(data), max(data), num_intervals+1)\n",
        "\n",
        "# Contar frecuencia observada en cada intervalo\n",
        "observed_freq, _ = np.histogram(data, bins=interval_limits)\n",
        "\n",
        "# Calcular frecuencia esperada\n",
        "expected_freq = len(data) / num_intervals\n",
        "\n",
        "# Calcular chi^2\n",
        "chi_squared = np.sum((observed_freq - expected_freq)**2 / expected_freq)\n",
        "\n",
        "# Grados de libertad\n",
        "df = num_intervals - 1\n",
        "\n",
        "# Valor crítico para un nivel de significancia del 95%\n",
        "alpha = 0.05\n",
        "critical_value = chi2.ppf(1 - alpha, df)\n",
        "\n",
        "# Comparar con valor crítico\n",
        "if chi_squared > critical_value:\n",
        "    print(f'Rechazar la hipótesis nula. Chi^2 = {chi_squared} > Valor Crítico = {critical_value}')\n",
        "else:\n",
        "    print(f'No se puede rechazar la hipótesis nula. Chi^2 = {chi_squared} <= Valor Crítico = {critical_value}')"
      ],
      "metadata": {
        "colab": {
          "base_uri": "https://localhost:8080/"
        },
        "id": "1P5LczRrPOaD",
        "outputId": "b952ee4d-39b1-46d6-8b83-91ebda2f706d"
      },
      "execution_count": 2,
      "outputs": [
        {
          "output_type": "stream",
          "name": "stdout",
          "text": [
            "No se puede rechazar la hipótesis nula. Chi^2 = 6.8 <= Valor Crítico = 16.918977604620448\n"
          ]
        }
      ]
    },
    {
      "cell_type": "code",
      "source": [
        "#Ejercicio 5\n",
        "\n",
        "#Escribir un programa en Python para realizar prueba de Chi^2\n",
        "import numpy as np\n",
        "from scipy.stats import chi2\n",
        "\n",
        "# Datos proporcionados\n",
        "#data = np.array([    ,.... , n])\n",
        "\n",
        "# Definir intervalos\n",
        "num_intervals = 10\n",
        "interval_limits = np.linspace(min(data), max(data), num_intervals+1)\n",
        "\n",
        "# Contar frecuencia observada en cada intervalo\n",
        "observed_freq, _ = np.histogram(data, bins=interval_limits)\n",
        "\n",
        "# Calcular frecuencia esperada\n",
        "expected_freq = len(data) / num_intervals\n",
        "\n",
        "# Calcular chi^2\n",
        "chi_squared = np.sum((observed_freq - expected_freq)**2 / expected_freq)\n",
        "\n",
        "# Grados de libertad\n",
        "df = num_intervals - 1\n",
        "\n",
        "# Valor crítico para un nivel de significancia\n",
        "alpha = #dependiendo del nivel de significancia\n",
        "critical_value = chi2.ppf(1 - alpha, df)\n",
        "\n",
        "# Comparar con valor crítico\n",
        "if chi_squared > critical_value:\n",
        "    print(f'Rechazar la hipótesis nula. Chi^2 = {chi_squared} > Valor Crítico = {critical_value}')\n",
        "else:\n",
        "    print(f'No se puede rechazar la hipótesis nula. Chi^2 = {chi_squared} <= Valor Crítico = {critical_value}')"
      ],
      "metadata": {
        "colab": {
          "base_uri": "https://localhost:8080/",
          "height": 106
        },
        "id": "tYaqs8NLPnnI",
        "outputId": "1bc51405-2d8b-4ecd-8381-6e81452551ae"
      },
      "execution_count": 3,
      "outputs": [
        {
          "output_type": "error",
          "ename": "SyntaxError",
          "evalue": "invalid syntax (<ipython-input-3-a47684045ffc>, line 27)",
          "traceback": [
            "\u001b[0;36m  File \u001b[0;32m\"<ipython-input-3-a47684045ffc>\"\u001b[0;36m, line \u001b[0;32m27\u001b[0m\n\u001b[0;31m    alpha = #dependiendo del nivel de significancia\u001b[0m\n\u001b[0m            ^\u001b[0m\n\u001b[0;31mSyntaxError\u001b[0m\u001b[0;31m:\u001b[0m invalid syntax\n"
          ]
        }
      ]
    }
  ]
}