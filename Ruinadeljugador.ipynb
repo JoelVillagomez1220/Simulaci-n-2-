{
  "nbformat": 4,
  "nbformat_minor": 0,
  "metadata": {
    "colab": {
      "provenance": [],
      "authorship_tag": "ABX9TyO19RE8NwiPFubz2dKTNgJD",
      "include_colab_link": true
    },
    "kernelspec": {
      "name": "python3",
      "display_name": "Python 3"
    },
    "language_info": {
      "name": "python"
    }
  },
  "cells": [
    {
      "cell_type": "markdown",
      "metadata": {
        "id": "view-in-github",
        "colab_type": "text"
      },
      "source": [
        "<a href=\"https://colab.research.google.com/github/JoelVillagomez1220/Simulaci-n-2-/blob/main/Ruinadeljugador.ipynb\" target=\"_parent\"><img src=\"https://colab.research.google.com/assets/colab-badge.svg\" alt=\"Open In Colab\"/></a>"
      ]
    },
    {
      "cell_type": "code",
      "execution_count": 3,
      "metadata": {
        "colab": {
          "base_uri": "https://localhost:8080/"
        },
        "id": "gKr1rOYw2pbw",
        "outputId": "a4b80431-afc1-40d3-8788-e9d688b1187b"
      },
      "outputs": [
        {
          "output_type": "stream",
          "name": "stdout",
          "text": [
            "Posición inicial: 2\n",
            "Probabilidad de ganar (p): 0.3, Probabilidad de perder (q): 0.7\n",
            "Porcentaje de ruina (llegada a 0): 93.93%\n",
            "Porcentaje de éxito (llegada a 5): 6.07%\n",
            "Ganancia media del jugador: 0.30\n",
            "Duración esperada del juego: 4.19 pasos\n",
            "Probabilidad de ruina contra un adversario infinitamente rico: 5.44\n"
          ]
        }
      ],
      "source": [
        "import random\n",
        "import math\n",
        "\n",
        "# Función para realizar una caminata aleatoria en una dimensión\n",
        "def caminata_en_una_dimension(steps, posicion_inicial, p, q):\n",
        "    posicion = posicion_inicial\n",
        "    duracion_juego = 0\n",
        "    while True:\n",
        "        duracion_juego += 1\n",
        "        # Elige el movimiento basado en la probabilidad p para el jugador 1\n",
        "        if random.random() < p:\n",
        "            movimiento = 1  # Avanza\n",
        "        else:\n",
        "            movimiento = -1  # Retrocede\n",
        "\n",
        "        # Actualizar la posición\n",
        "        posicion += movimiento\n",
        "\n",
        "        # Verifica si el jugador llega a 0 o 5\n",
        "        if posicion == 0 or posicion == 5:\n",
        "            break\n",
        "\n",
        "    # Retornar la posición final y la duración del juego\n",
        "    return posicion, duracion_juego\n",
        "\n",
        "# Número de simulaciones y pasos para evaluar\n",
        "numero_simulaciones = 10000\n",
        "numero_pasos = 20  # Puedes ajustar el número de pasos según sea necesario\n",
        "\n",
        "# Posición inicial del jugador\n",
        "posicion_inicial = 2  # Ajusta este valor entre 0 y 5 según sea necesario\n",
        "\n",
        "# Probabilidades de ganar (p) y perder (q = 1 - p) para el jugador\n",
        "p = 0.3  # Probabilidad de que el jugador 1 gane\n",
        "q = 1 - p  # Probabilidad de que el jugador 2 gane\n",
        "\n",
        "# Variables para contar los resultados de las simulaciones\n",
        "ruina = 0  # Veces que el jugador llega a 0\n",
        "exito = 0  # Veces que el jugador llega a 5\n",
        "ganancia_total = 0  # Para calcular la ganancia media\n",
        "duracion_total = 0  # Para calcular la duración esperada del juego\n",
        "\n",
        "# Realizar simulaciones del ejercicio de la ruina del jugador\n",
        "for _ in range(numero_simulaciones):\n",
        "    posicion_final, duracion_juego = caminata_en_una_dimension(numero_pasos, posicion_inicial, p, q)\n",
        "    # Contar los resultados según la posición final\n",
        "    if posicion_final == 0:\n",
        "        ruina += 1\n",
        "    elif posicion_final == 5:\n",
        "        exito += 1\n",
        "    # Sumar la posición final para calcular la ganancia total\n",
        "    ganancia_total += posicion_final\n",
        "    # Sumar la duración del juego\n",
        "    duracion_total += duracion_juego\n",
        "\n",
        "# Calcular los porcentajes de ruina y éxito\n",
        "porcentaje_ruina = 100 * (ruina / numero_simulaciones)\n",
        "porcentaje_exito = 100 * (exito / numero_simulaciones)\n",
        "\n",
        "# Calcular la ganancia media\n",
        "ganancia_media = ganancia_total / numero_simulaciones\n",
        "\n",
        "# Calcular la duración esperada del juego\n",
        "duracion_esperada = duracion_total / numero_simulaciones\n",
        "\n",
        "# Calcular la probabilidad de ruina contra un adversario infinitamente rico\n",
        "probabilidad_ruina_contra_adversario_infinito = ((q / p) ** posicion_inicial)\n",
        "\n",
        "# Mostrar los resultados\n",
        "print(f\"Posición inicial: {posicion_inicial}\")\n",
        "print(f\"Probabilidad de ganar (p): {p}, Probabilidad de perder (q): {q}\")\n",
        "print(f\"Porcentaje de ruina (llegada a 0): {porcentaje_ruina:.2f}%\")\n",
        "print(f\"Porcentaje de éxito (llegada a 5): {porcentaje_exito:.2f}%\")\n",
        "print(f\"Ganancia media del jugador: {ganancia_media:.2f}\")\n",
        "print(f\"Duración esperada del juego: {duracion_esperada:.2f} pasos\")\n",
        "print(f\"Probabilidad de ruina contra un adversario infinitamente rico: {probabilidad_ruina_contra_adversario_infinito:.2f}\")\n"
      ]
    }
  ]
}