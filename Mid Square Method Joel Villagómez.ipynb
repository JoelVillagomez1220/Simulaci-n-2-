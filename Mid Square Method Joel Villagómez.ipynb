# -*- coding: utf-8 -*-
"""
Created on Mon Feb 19 06:02:06 2024

@author: Joel Villagòmez
Mid Square Method
"""

a = 18754607  # Semilla, numero entero de 8 dígitos 
i = 0

while i <= 9 and a != 0: #i=iteraciones+1
    a = a // 100
    a = a % 10000
    a = a * a
    print("0.", a)
    i += 1
