{
  "nbformat": 4,
  "nbformat_minor": 0,
  "metadata": {
    "colab": {
      "provenance": [],
      "authorship_tag": "ABX9TyNgfUzBNnARwEtWTzu2ASA+",
      "include_colab_link": true
    },
    "kernelspec": {
      "name": "python3",
      "display_name": "Python 3"
    },
    "language_info": {
      "name": "python"
    }
  },
  "cells": [
    {
      "cell_type": "markdown",
      "metadata": {
        "id": "view-in-github",
        "colab_type": "text"
      },
      "source": [
        "<a href=\"https://colab.research.google.com/github/JoelVillagomez1220/Simulaci-n-2-/blob/main/L%C3%ADneas%20de%20espera.ipynb\" target=\"_parent\"><img src=\"https://colab.research.google.com/assets/colab-badge.svg\" alt=\"Open In Colab\"/></a>"
      ]
    },
    {
      "cell_type": "code",
      "execution_count": 1,
      "metadata": {
        "colab": {
          "base_uri": "https://localhost:8080/"
        },
        "id": "7_8oMSAKEgAD",
        "outputId": "be45cc41-0d78-4b66-b4f0-551728d2f218"
      },
      "outputs": [
        {
          "output_type": "stream",
          "name": "stdout",
          "text": [
            "Distribución estacionaria:\n",
            "[0.35475247 0.31041465 0.12196643 0.03991402 0.17295243]\n",
            "Valor esperado: 1.3658992919419415\n"
          ]
        }
      ],
      "source": [
        "import numpy as np\n",
        "from scipy.linalg import eig\n",
        "\n",
        "# Función para definir la matriz de transición de la cadena de Markov\n",
        "def crear_matriz_transicion():\n",
        "    P = np.array([\n",
        "        [0.3, 0.5, 0.2, 0, 0],  # Estado 0\n",
        "        [0.4, 0.35, 0, 0.05, 0.2],  # Estado 1\n",
        "        [0.2, 0.2, 0.2, 0.2, 0.2],  # Estado 2\n",
        "        [0.333, 0, 0.667, 0, 0],  # Estado 3\n",
        "        [0.5, 0, 0, 0, 0.5]   # Estado 4\n",
        "    ])\n",
        "    return P\n",
        "\n",
        "# Función para calcular la distribución estacionaria\n",
        "def calcular_distribucion_estacionaria(P):\n",
        "    # Calcular los valores y vectores propios de la matriz de transición\n",
        "    values, vectors = eig(P, left=True, right=False)\n",
        "\n",
        "    # Buscar el vector propio con valor propio 1 (el más cercano a 1)\n",
        "    stationary_index = np.argmax(np.isclose(values, 1))\n",
        "\n",
        "    # Obtener el vector propio correspondiente\n",
        "    stationary_vector = np.abs(vectors[:, stationary_index])\n",
        "\n",
        "    # Normalizar el vector propio para que sume 1\n",
        "    stationary_distribution = stationary_vector / np.sum(stationary_vector)\n",
        "\n",
        "    return stationary_distribution\n",
        "\n",
        "# Función para calcular el valor esperado\n",
        "def calcular_valor_esperado(valores, distribucion_estacionaria):\n",
        "    valor_esperado = np.dot(valores, distribucion_estacionaria)\n",
        "    return valor_esperado\n",
        "\n",
        "# Función principal\n",
        "def main():\n",
        "    # Crear la matriz de transición\n",
        "    P = crear_matriz_transicion()\n",
        "\n",
        "    # Calcular la distribución estacionaria\n",
        "    distribucion_estacionaria = calcular_distribucion_estacionaria(P)\n",
        "\n",
        "    # Mostrar la distribución estacionaria\n",
        "    print(\"Distribución estacionaria:\")\n",
        "    print(distribucion_estacionaria)\n",
        "\n",
        "    # Lista de valores para cada estado (esto debe estar definido de acuerdo a tu contexto)\n",
        "    valores = [0, 1, 2, 3, 4]  # Por ejemplo, valores asociados con los estados 0, 1, 2, 3 y 4\n",
        "\n",
        "    # Calcular el valor esperado\n",
        "    valor_esperado = calcular_valor_esperado(valores, distribucion_estacionaria)\n",
        "\n",
        "    # Mostrar el valor esperado\n",
        "    print(f\"Valor esperado: {valor_esperado}\")\n",
        "\n",
        "# Ejecutar la función principal\n",
        "if __name__ == \"__main__\":\n",
        "    main()\n"
      ]
    }
  ]
}