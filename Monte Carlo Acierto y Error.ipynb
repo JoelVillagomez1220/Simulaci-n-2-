{
  "cells": [
    {
      "cell_type": "markdown",
      "id": "a5cc0a87",
      "metadata": {
        "id": "a5cc0a87"
      },
      "source": [
        "# Metodología de la Simulación"
      ]
    },
    {
      "cell_type": "markdown",
      "id": "0e218d98",
      "metadata": {
        "id": "0e218d98"
      },
      "source": [
        "### 1. Identifique las variables\n",
        "\n",
        "Aquellas cuyo comportamiento define el comportamiento o la evoución global del sistema real."
      ]
    },
    {
      "cell_type": "markdown",
      "id": "3ebcd0f2",
      "metadata": {
        "id": "3ebcd0f2"
      },
      "source": [
        "### 2. Determine la distribución de probabilidad\n",
        "\n",
        "Elija el tipo de distribución de probabilidad que mejor defina el comportamiento aleatorio de cada una de las variables del sistema identificadas en el paso anterior."
      ]
    },
    {
      "cell_type": "markdown",
      "id": "803801d5",
      "metadata": {
        "id": "803801d5"
      },
      "source": [
        "### 3. Modele las variables aleatorias\n",
        "\n",
        "Cosntruya un modelo fiel de la aleatoriedad de las variables del sistema. Simular el comportamiento del sistema implica generar muestras aleatorias de cada variable que sigan fielmente la distribución de probabilidad correspondiente."
      ]
    },
    {
      "cell_type": "markdown",
      "id": "33709223",
      "metadata": {
        "id": "33709223"
      },
      "source": [
        "### 4. Defina el modelo del sistema y los objetivos de la simulación\n",
        "\n",
        "Fije los objetivos y diseñe un modelo del sistema real que abstraiga sus propiedades más relevantes. Todo error en el modelo (o su implementación computacional) puede dar lugar a conclusiones equivocadas.\n",
        "\n",
        "Antes de experimentar con el modelo, asegurarse de que refleja fielmente el sistema real **validando** el mismo a partir de datos reales, para ello compare los resultados obtenidos de la simulación con los producidos por el sistema."
      ]
    },
    {
      "cell_type": "markdown",
      "id": "7f853065",
      "metadata": {
        "id": "7f853065"
      },
      "source": [
        "### 5. Diseñe el experimento\n",
        "\n",
        "Diseñe un experimento así como las ejecuciones concretas del mismo, los escenarios que desea estudiar para alcanzar los objetivos fijados. El experimento consiste en generar valores de las variables cuyo comportamiento define el comportamiento del sistema y analizar este ante dichos valores."
      ]
    },
    {
      "cell_type": "markdown",
      "id": "15ae61c8",
      "metadata": {
        "id": "15ae61c8"
      },
      "source": [
        "### 6. Repita el experimento $n$ veces\n",
        "\n",
        "Así dispondrá de $n$ observaciones sobre el comportamiento del sistema, lo que permitirá entender su funcionamiento así como evaluar el desempeño del mismo frente a los diversos escenarios establecidos.\n",
        "\n",
        "El **método Monte Carlo** se basa en la **Ley Fuerte de los Grandes Números** y el **Teorema del Límite Central**."
      ]
    },
    {
      "cell_type": "markdown",
      "id": "51ce3fa1",
      "metadata": {
        "id": "51ce3fa1"
      },
      "source": [
        "## Ejemplo Método Monte Carlo Acierto y Error\n",
        "\n",
        "Calcule la integral de 0 a inf de x(1+x^2)^-2 dx\n",
        "\n",
        "1. Analíticamente.\n",
        "2. Mediante simulación."
      ]
    },
    {
      "cell_type": "markdown",
      "id": "6f1b4105",
      "metadata": {
        "id": "6f1b4105"
      },
      "source": [
        "Analiticamente:"
      ]
    },
    {
      "cell_type": "markdown",
      "source": [
        "integral de 0 a inf de x(1+x^2)^-2 dx\n",
        "u= 1+x^2\n",
        "du = 2xdx\n",
        "du/2x = dx\n",
        "integral de 0 a inf de x(1+x^2)^-2 dx = integral de 0 a inf x u^-2 du/2x =\n",
        "1/2 Integral de 0 a inf u^-2 du\n",
        "regresando el cambio de variable obtenemos:\n",
        "\n",
        "  -1/2(1+x)^2 , evaluado de 0 a inf\n",
        "  \n",
        "  evaluando =1/2"
      ],
      "metadata": {
        "id": "qNw07MKDWj5w"
      },
      "id": "qNw07MKDWj5w"
    },
    {
      "cell_type": "markdown",
      "id": "fbbc8571",
      "metadata": {
        "id": "fbbc8571"
      },
      "source": [
        "**PASO 1**. Defina las variables que intervienen en el modelo."
      ]
    },
    {
      "cell_type": "markdown",
      "source": [
        "Variable x"
      ],
      "metadata": {
        "id": "yfRYfHByWP8r"
      },
      "id": "yfRYfHByWP8r"
    },
    {
      "cell_type": "markdown",
      "id": "4d3899f3",
      "metadata": {
        "id": "4d3899f3"
      },
      "source": [
        "**PASO 2**. Formule la distribución de probabilidad de cada variable."
      ]
    },
    {
      "cell_type": "markdown",
      "id": "fefa1334",
      "metadata": {
        "id": "fefa1334"
      },
      "source": [
        "La variable x se distribuye uniformemente en el intervalo [0, 1]. Esto se debe a que la función de densidad de probabilidad de la distribución uniforme es constante en este untervalo."
      ]
    },
    {
      "cell_type": "markdown",
      "id": "fd02116a",
      "metadata": {
        "id": "fd02116a"
      },
      "source": [
        "**PASO 3**. Enumere la distribución acumulada de probabilidad de cada variable."
      ]
    },
    {
      "cell_type": "markdown",
      "id": "59e252c6",
      "metadata": {
        "id": "59e252c6"
      },
      "source": [
        "F(x) = x para 0<=x<=1 con F(x)= P(X<=x)"
      ]
    },
    {
      "cell_type": "markdown",
      "id": "4852dcac",
      "metadata": {
        "id": "4852dcac"
      },
      "source": [
        "**PASO 4**. Establezca el intervalo de números aleatorios correspondiente a cada valor de cada una de las variables."
      ]
    },
    {
      "cell_type": "markdown",
      "id": "905db069",
      "metadata": {
        "id": "905db069"
      },
      "source": [
        "Dado que la función es positiva en todo el intervalo, podemos establecer el intervalo de números aleatorios para \\( x \\) en \\( [0, M] \\), donde \\( M \\) es algún número finito lo suficientemente grande.\n"
      ]
    },
    {
      "cell_type": "markdown",
      "id": "edb6b074",
      "metadata": {
        "id": "edb6b074"
      },
      "source": [
        "**PASO 5**. Genere números aleatorios."
      ]
    },
    {
      "cell_type": "code",
      "execution_count": 16,
      "id": "7d56c432",
      "metadata": {
        "id": "7d56c432",
        "outputId": "f8dd532e-0478-45d5-b455-8c71cff5f7fc",
        "colab": {
          "base_uri": "https://localhost:8080/"
        }
      },
      "outputs": [
        {
          "output_type": "stream",
          "name": "stdout",
          "text": [
            "Aproximación de la integral: 0.49569921540272555\n"
          ]
        }
      ],
      "source": [
        "import numpy as np\n",
        "\n",
        "def monte_carlo_integration(N, M):\n",
        "    # Generar N números aleatorios en el intervalo [0, M]\n",
        "    random_numbers = np.random.uniform(0, M, N)\n",
        "\n",
        "    # Evaluar la función en los números aleatorios generados\n",
        "    values = random_numbers * (1 + random_numbers**2)**(-2)\n",
        "\n",
        "    # Calcular la aproximación de la integral\n",
        "    integral_approximation = np.mean(values) * M\n",
        "\n",
        "    return integral_approximation\n",
        "\n",
        "# Número de muestras aleatorias\n",
        "N = 100000\n",
        "M = 10\n",
        "\n",
        "approximation = monte_carlo_integration(N, M)\n",
        "\n",
        "print(\"Aproximación de la integral:\", approximation)\n"
      ]
    },
    {
      "cell_type": "markdown",
      "id": "f38f3396",
      "metadata": {
        "id": "f38f3396"
      },
      "source": [
        "**PASO 6**. Simule un lanzamiento."
      ]
    },
    {
      "cell_type": "code",
      "source": [
        "import numpy as np\n",
        "\n",
        "def monte_carlo_integration(N, M):\n",
        "    # Generar N números aleatorios en el intervalo [0, M]\n",
        "    random_numbers = np.random.uniform(0, M, N)\n",
        "\n",
        "    # Evaluar la función en los números aleatorios generados\n",
        "    values = random_numbers * (1 + random_numbers**2)**(-2)\n",
        "\n",
        "    # Calcular la aproximación de la integral\n",
        "    integral_approximation = np.mean(values) * M\n",
        "\n",
        "    return integral_approximation\n",
        "\n",
        "# Número de muestras aleatorias\n",
        "N = 100000\n",
        "\n",
        "# Valor de M (puedes ajustar este valor según la precisión que desees)\n",
        "M = 10\n",
        "\n",
        "# Calcular la aproximación de la integral utilizando el método de Monte Carlo\n",
        "approximation = monte_carlo_integration(N, M)\n",
        "\n",
        "print(\"Aproximación de la integral:\", approximation)\n"
      ],
      "metadata": {
        "id": "pNWN3-UNaXMp",
        "outputId": "e0c6656f-965e-45c6-ec2e-c541499779f5",
        "colab": {
          "base_uri": "https://localhost:8080/"
        }
      },
      "id": "pNWN3-UNaXMp",
      "execution_count": 17,
      "outputs": [
        {
          "output_type": "stream",
          "name": "stdout",
          "text": [
            "Aproximación de la integral: 0.49435028218061117\n"
          ]
        }
      ]
    },
    {
      "cell_type": "markdown",
      "id": "d270399e",
      "metadata": {
        "id": "d270399e"
      },
      "source": [
        "**PASO 7**. Obtenga la gráfica de estabilización que indica que el tamaño de muestra utilizado es suficiente para\n",
        "garantizar la convergencia del resultado."
      ]
    },
    {
      "cell_type": "code",
      "source": [
        "#Joel Ricardo Villagómez de Alba\n",
        "import numpy as np\n",
        "import matplotlib.pyplot as plt\n",
        "\n",
        "def monte_carlo_integration(N, M):\n",
        "    random_numbers = np.random.uniform(0, M, N)\n",
        "    values = random_numbers * (1 + random_numbers**2)**(-2)\n",
        "    integral_approximation = np.mean(values) * M\n",
        "    return integral_approximation\n",
        "\n",
        "# Valor de M\n",
        "M = 100\n",
        "\n",
        "# Tamaños de muestra a probar\n",
        "sample_sizes = [100, 500, 1000, 5000, 10000, 50000, 100000]\n",
        "\n",
        "# Lista para almacenar las aproximaciones de la integral\n",
        "integral_approximations = []\n",
        "\n",
        "# Calcular las aproximaciones de la integral para cada tamaño de muestra\n",
        "for N in sample_sizes:\n",
        "    approximation = monte_carlo_integration(N, M)\n",
        "    integral_approximations.append(approximation)\n",
        "\n",
        "# Graficar\n",
        "plt.figure(figsize=(10, 6))\n",
        "plt.plot(sample_sizes, integral_approximations)\n",
        "plt.xscale('log')  # Escala logarítmica en el eje x para una mejor visualización\n",
        "plt.xlabel('Tamaño de muestra')\n",
        "plt.ylabel('Aproximación de la integral')\n",
        "plt.title('Gráfica de estabilización')\n",
        "plt.grid(True)\n",
        "plt.show()\n"
      ],
      "metadata": {
        "id": "zjF-5Lltanxe",
        "outputId": "dcb8b38a-6610-49b5-c9bb-b2ff6f2cec9f",
        "colab": {
          "base_uri": "https://localhost:8080/",
          "height": 569
        }
      },
      "id": "zjF-5Lltanxe",
      "execution_count": 23,
      "outputs": [
        {
          "output_type": "display_data",
          "data": {
            "text/plain": [
              "<Figure size 1000x600 with 1 Axes>"
            ],
            "image/png": "[encoded data removed]"
          },
          "metadata": {}
        }
      ]
    }
  ],
  "metadata": {
    "kernelspec": {
      "display_name": "Python 3 (ipykernel)",
      "language": "python",
      "name": "python3"
    },
    "language_info": {
      "codemirror_mode": {
        "name": "ipython",
        "version": 3
      },
      "file_extension": ".py",
      "mimetype": "text/x-python",
      "name": "python",
      "nbconvert_exporter": "python",
      "pygments_lexer": "ipython3",
      "version": "3.7.3"
    },
    "colab": {
      "provenance": []
    }
  },
  "nbformat": 4,
  "nbformat_minor": 5
}