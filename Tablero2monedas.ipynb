{
  "nbformat": 4,
  "nbformat_minor": 0,
  "metadata": {
    "colab": {
      "provenance": [],
      "authorship_tag": "ABX9TyP8K11Ynv9eWCYC1Zf9shzm",
      "include_colab_link": true
    },
    "kernelspec": {
      "name": "python3",
      "display_name": "Python 3"
    },
    "language_info": {
      "name": "python"
    }
  },
  "cells": [
    {
      "cell_type": "markdown",
      "metadata": {
        "id": "view-in-github",
        "colab_type": "text"
      },
      "source": [
        "<a href=\"https://colab.research.google.com/github/JoelVillagomez1220/Simulaci-n-2-/blob/main/Tablero2monedas.ipynb\" target=\"_parent\"><img src=\"https://colab.research.google.com/assets/colab-badge.svg\" alt=\"Open In Colab\"/></a>"
      ]
    },
    {
      "cell_type": "code",
      "execution_count": 1,
      "metadata": {
        "colab": {
          "base_uri": "https://localhost:8080/"
        },
        "id": "MssJmFuN1CEA",
        "outputId": "0a0df498-009b-44fb-9166-80d976e27199"
      },
      "outputs": [
        {
          "output_type": "stream",
          "name": "stdout",
          "text": [
            "Distribución estacionaria:\n",
            "[0.25 0.25 0.25 0.25]\n"
          ]
        }
      ],
      "source": [
        "#Joel Ricardo Villagómez de Alba\n",
        "import numpy as np\n",
        "from scipy.linalg import eig\n",
        "\n",
        "# Función para definir la matriz de transición de la cadena de Markov\n",
        "def crear_matriz_transicion():\n",
        "\n",
        "    P = np.array([\n",
        "        [1/4, 1/2, 1/4, 0],  # Estado 1\n",
        "        [0, 1/4, 1/2, 1/4],  # Estado 2\n",
        "        [1/4, 0, 1/4, 1/2],  # Estado 3\n",
        "        [1/2, 1/4, 0, 1/4]   # Estado 4\n",
        "    ])\n",
        "    return P\n",
        "\n",
        "# Función para calcular la distribución estacionaria\n",
        "def calcular_distribucion_estacionaria(P):\n",
        "    # Calcular los valores y vectores propios de la matriz de transición\n",
        "    values, vectors = eig(P, left=True, right=False)\n",
        "\n",
        "    # Buscar el vector propio con valor propio 1 (el más cercano a 1)\n",
        "    stationary_index = np.argmax(np.isclose(values, 1))\n",
        "\n",
        "    # Obtener el vector propio correspondiente\n",
        "    stationary_vector = np.abs(vectors[:, stationary_index])\n",
        "\n",
        "    # Normalizar el vector propio para que sume 1\n",
        "    stationary_distribution = stationary_vector / np.sum(stationary_vector)\n",
        "\n",
        "    return stationary_distribution\n",
        "\n",
        "# Función principal\n",
        "def main():\n",
        "    # Crear la matriz de transición\n",
        "    P = crear_matriz_transicion()\n",
        "\n",
        "    # Calcular la distribución estacionaria\n",
        "    distribucion_estacionaria = calcular_distribucion_estacionaria(P)\n",
        "\n",
        "    # Mostrar la distribución estacionaria\n",
        "    print(\"Distribución estacionaria:\")\n",
        "    print(distribucion_estacionaria)\n",
        "\n",
        "# Ejecutar la función principal\n",
        "if __name__ == \"__main__\":\n",
        "    main()\n"
      ]
    }
  ]
}