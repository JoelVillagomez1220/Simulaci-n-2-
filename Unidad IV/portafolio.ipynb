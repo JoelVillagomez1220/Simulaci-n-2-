{
  "cells": [
    {
      "cell_type": "code",
      "execution_count": 79,
      "metadata": {
        "id": "UFDHL92j9P1W"
      },
      "outputs": [],
      "source": [
        "import numpy as np\n",
        "import pandas as pd\n",
        "import yfinance as yf\n",
        "import matplotlib.pyplot as plt\n",
        "import datetime\n"
      ]
    },
    {
      "cell_type": "code",
      "execution_count": 55,
      "metadata": {
        "id": "1kNMIgK09P1Y",
        "outputId": "bc2f69ab-2a83-4453-e02e-09a9b3bb1627",
        "colab": {
          "base_uri": "https://localhost:8080/"
        }
      },
      "outputs": [
        {
          "output_type": "stream",
          "name": "stderr",
          "text": [
            "[*********************100%%**********************]  1 of 1 completed\n",
            "[*********************100%%**********************]  1 of 1 completed\n",
            "[*********************100%%**********************]  1 of 1 completed\n",
            "[*********************100%%**********************]  1 of 1 completed\n"
          ]
        }
      ],
      "source": [
        "tickers = ['TSLA', 'AAPL', 'NUGT', 'AMD']\n",
        "start = datetime.datetime(2015,3,23)\n",
        "end = datetime.datetime(2017,3,23)\n",
        "mydata = pd.DataFrame()\n",
        "for t in tickers:\n",
        "    mydata[t] = yf.download(t, start=start, end=end)['Adj Close']"
      ]
    },
    {
      "cell_type": "code",
      "execution_count": 58,
      "metadata": {
        "id": "dkpD9bJ29P1Z",
        "outputId": "be1f6b14-8223-4be0-95a4-0acc6ba62402",
        "colab": {
          "base_uri": "https://localhost:8080/"
        }
      },
      "outputs": [
        {
          "output_type": "stream",
          "name": "stdout",
          "text": [
            "<class 'pandas.core.frame.DataFrame'>\n",
            "DatetimeIndex: 505 entries, 2015-03-23 to 2017-03-22\n",
            "Data columns (total 4 columns):\n",
            " #   Column  Non-Null Count  Dtype  \n",
            "---  ------  --------------  -----  \n",
            " 0   TSLA    505 non-null    float64\n",
            " 1   AAPL    505 non-null    float64\n",
            " 2   NUGT    505 non-null    float64\n",
            " 3   AMD     505 non-null    float64\n",
            "dtypes: float64(4)\n",
            "memory usage: 19.7 KB\n"
          ]
        }
      ],
      "source": [
        "mydata.info()"
      ]
    },
    {
      "cell_type": "code",
      "execution_count": 59,
      "metadata": {
        "id": "zc3k-Zm99P1Z",
        "outputId": "33ef7b39-5885-4605-db26-7c18037bd15e",
        "colab": {
          "base_uri": "https://localhost:8080/",
          "height": 237
        }
      },
      "outputs": [
        {
          "output_type": "execute_result",
          "data": {
            "text/plain": [
              "                 TSLA       AAPL        NUGT   AMD\n",
              "Date                                              \n",
              "2015-03-23  13.308667  28.504995  459.086334  2.84\n",
              "2015-03-24  13.448000  28.388483  452.577209  2.79\n",
              "2015-03-25  12.953333  27.646778  433.815582  2.63\n",
              "2015-03-26  12.694000  27.839479  412.756592  2.65\n",
              "2015-03-27  12.333333  27.617641  397.440887  2.72"
            ],
            "text/html": [
              "\n",
              "  <div id=\"df-9bbe026c-0241-4185-9d79-c3cfbc81118f\" class=\"colab-df-container\">\n",
              "    <div>\n",
              "<style scoped>\n",
              "    .dataframe tbody tr th:only-of-type {\n",
              "        vertical-align: middle;\n",
              "    }\n",
              "\n",
              "    .dataframe tbody tr th {\n",
              "        vertical-align: top;\n",
              "    }\n",
              "\n",
              "    .dataframe thead th {\n",
              "        text-align: right;\n",
              "    }\n",
              "</style>\n",
              "<table border=\"1\" class=\"dataframe\">\n",
              "  <thead>\n",
              "    <tr style=\"text-align: right;\">\n",
              "      <th></th>\n",
              "      <th>TSLA</th>\n",
              "      <th>AAPL</th>\n",
              "      <th>NUGT</th>\n",
              "      <th>AMD</th>\n",
              "    </tr>\n",
              "    <tr>\n",
              "      <th>Date</th>\n",
              "      <th></th>\n",
              "      <th></th>\n",
              "      <th></th>\n",
              "      <th></th>\n",
              "    </tr>\n",
              "  </thead>\n",
              "  <tbody>\n",
              "    <tr>\n",
              "      <th>2015-03-23</th>\n",
              "      <td>13.308667</td>\n",
              "      <td>28.504995</td>\n",
              "      <td>459.086334</td>\n",
              "      <td>2.84</td>\n",
              "    </tr>\n",
              "    <tr>\n",
              "      <th>2015-03-24</th>\n",
              "      <td>13.448000</td>\n",
              "      <td>28.388483</td>\n",
              "      <td>452.577209</td>\n",
              "      <td>2.79</td>\n",
              "    </tr>\n",
              "    <tr>\n",
              "      <th>2015-03-25</th>\n",
              "      <td>12.953333</td>\n",
              "      <td>27.646778</td>\n",
              "      <td>433.815582</td>\n",
              "      <td>2.63</td>\n",
              "    </tr>\n",
              "    <tr>\n",
              "      <th>2015-03-26</th>\n",
              "      <td>12.694000</td>\n",
              "      <td>27.839479</td>\n",
              "      <td>412.756592</td>\n",
              "      <td>2.65</td>\n",
              "    </tr>\n",
              "    <tr>\n",
              "      <th>2015-03-27</th>\n",
              "      <td>12.333333</td>\n",
              "      <td>27.617641</td>\n",
              "      <td>397.440887</td>\n",
              "      <td>2.72</td>\n",
              "    </tr>\n",
              "  </tbody>\n",
              "</table>\n",
              "</div>\n",
              "    <div class=\"colab-df-buttons\">\n",
              "\n",
              "  <div class=\"colab-df-container\">\n",
              "    <button class=\"colab-df-convert\" onclick=\"convertToInteractive('df-9bbe026c-0241-4185-9d79-c3cfbc81118f')\"\n",
              "            title=\"Convert this dataframe to an interactive table.\"\n",
              "            style=\"display:none;\">\n",
              "\n",
              "  <svg xmlns=\"http://www.w3.org/2000/svg\" height=\"24px\" viewBox=\"0 -960 960 960\">\n",
              "    <path d=\"M120-120v-720h720v720H120Zm60-500h600v-160H180v160Zm220 220h160v-160H400v160Zm0 220h160v-160H400v160ZM180-400h160v-160H180v160Zm440 0h160v-160H620v160ZM180-180h160v-160H180v160Zm440 0h160v-160H620v160Z\"/>\n",
              "  </svg>\n",
              "    </button>\n",
              "\n",
              "  <style>\n",
              "    .colab-df-container {\n",
              "      display:flex;\n",
              "      gap: 12px;\n",
              "    }\n",
              "\n",
              "    .colab-df-convert {\n",
              "      background-color: #E8F0FE;\n",
              "      border: none;\n",
              "      border-radius: 50%;\n",
              "      cursor: pointer;\n",
              "      display: none;\n",
              "      fill: #1967D2;\n",
              "      height: 32px;\n",
              "      padding: 0 0 0 0;\n",
              "      width: 32px;\n",
              "    }\n",
              "\n",
              "    .colab-df-convert:hover {\n",
              "      background-color: #E2EBFA;\n",
              "      box-shadow: 0px 1px 2px rgba(60, 64, 67, 0.3), 0px 1px 3px 1px rgba(60, 64, 67, 0.15);\n",
              "      fill: #174EA6;\n",
              "    }\n",
              "\n",
              "    .colab-df-buttons div {\n",
              "      margin-bottom: 4px;\n",
              "    }\n",
              "\n",
              "    [theme=dark] .colab-df-convert {\n",
              "      background-color: #3B4455;\n",
              "      fill: #D2E3FC;\n",
              "    }\n",
              "\n",
              "    [theme=dark] .colab-df-convert:hover {\n",
              "      background-color: #434B5C;\n",
              "      box-shadow: 0px 1px 3px 1px rgba(0, 0, 0, 0.15);\n",
              "      filter: drop-shadow(0px 1px 2px rgba(0, 0, 0, 0.3));\n",
              "      fill: #FFFFFF;\n",
              "    }\n",
              "  </style>\n",
              "\n",
              "    <script>\n",
              "      const buttonEl =\n",
              "        document.querySelector('#df-9bbe026c-0241-4185-9d79-c3cfbc81118f button.colab-df-convert');\n",
              "      buttonEl.style.display =\n",
              "        google.colab.kernel.accessAllowed ? 'block' : 'none';\n",
              "\n",
              "      async function convertToInteractive(key) {\n",
              "        const element = document.querySelector('#df-9bbe026c-0241-4185-9d79-c3cfbc81118f');\n",
              "        const dataTable =\n",
              "          await google.colab.kernel.invokeFunction('convertToInteractive',\n",
              "                                                    [key], {});\n",
              "        if (!dataTable) return;\n",
              "\n",
              "        const docLinkHtml = 'Like what you see? Visit the ' +\n",
              "          '<a target=\"_blank\" href=https://colab.research.google.com/notebooks/data_table.ipynb>data table notebook</a>'\n",
              "          + ' to learn more about interactive tables.';\n",
              "        element.innerHTML = '';\n",
              "        dataTable['output_type'] = 'display_data';\n",
              "        await google.colab.output.renderOutput(dataTable, element);\n",
              "        const docLink = document.createElement('div');\n",
              "        docLink.innerHTML = docLinkHtml;\n",
              "        element.appendChild(docLink);\n",
              "      }\n",
              "    </script>\n",
              "  </div>\n",
              "\n",
              "\n",
              "<div id=\"df-e7904165-0d74-4ea7-94a8-c73c6ad8f7e4\">\n",
              "  <button class=\"colab-df-quickchart\" onclick=\"quickchart('df-e7904165-0d74-4ea7-94a8-c73c6ad8f7e4')\"\n",
              "            title=\"Suggest charts\"\n",
              "            style=\"display:none;\">\n",
              "\n",
              "<svg xmlns=\"http://www.w3.org/2000/svg\" height=\"24px\"viewBox=\"0 0 24 24\"\n",
              "     width=\"24px\">\n",
              "    <g>\n",
              "        <path d=\"M19 3H5c-1.1 0-2 .9-2 2v14c0 1.1.9 2 2 2h14c1.1 0 2-.9 2-2V5c0-1.1-.9-2-2-2zM9 17H7v-7h2v7zm4 0h-2V7h2v10zm4 0h-2v-4h2v4z\"/>\n",
              "    </g>\n",
              "</svg>\n",
              "  </button>\n",
              "\n",
              "<style>\n",
              "  .colab-df-quickchart {\n",
              "      --bg-color: #E8F0FE;\n",
              "      --fill-color: #1967D2;\n",
              "      --hover-bg-color: #E2EBFA;\n",
              "      --hover-fill-color: #174EA6;\n",
              "      --disabled-fill-color: #AAA;\n",
              "      --disabled-bg-color: #DDD;\n",
              "  }\n",
              "\n",
              "  [theme=dark] .colab-df-quickchart {\n",
              "      --bg-color: #3B4455;\n",
              "      --fill-color: #D2E3FC;\n",
              "      --hover-bg-color: #434B5C;\n",
              "      --hover-fill-color: #FFFFFF;\n",
              "      --disabled-bg-color: #3B4455;\n",
              "      --disabled-fill-color: #666;\n",
              "  }\n",
              "\n",
              "  .colab-df-quickchart {\n",
              "    background-color: var(--bg-color);\n",
              "    border: none;\n",
              "    border-radius: 50%;\n",
              "    cursor: pointer;\n",
              "    display: none;\n",
              "    fill: var(--fill-color);\n",
              "    height: 32px;\n",
              "    padding: 0;\n",
              "    width: 32px;\n",
              "  }\n",
              "\n",
              "  .colab-df-quickchart:hover {\n",
              "    background-color: var(--hover-bg-color);\n",
              "    box-shadow: 0 1px 2px rgba(60, 64, 67, 0.3), 0 1px 3px 1px rgba(60, 64, 67, 0.15);\n",
              "    fill: var(--button-hover-fill-color);\n",
              "  }\n",
              "\n",
              "  .colab-df-quickchart-complete:disabled,\n",
              "  .colab-df-quickchart-complete:disabled:hover {\n",
              "    background-color: var(--disabled-bg-color);\n",
              "    fill: var(--disabled-fill-color);\n",
              "    box-shadow: none;\n",
              "  }\n",
              "\n",
              "  .colab-df-spinner {\n",
              "    border: 2px solid var(--fill-color);\n",
              "    border-color: transparent;\n",
              "    border-bottom-color: var(--fill-color);\n",
              "    animation:\n",
              "      spin 1s steps(1) infinite;\n",
              "  }\n",
              "\n",
              "  @keyframes spin {\n",
              "    0% {\n",
              "      border-color: transparent;\n",
              "      border-bottom-color: var(--fill-color);\n",
              "      border-left-color: var(--fill-color);\n",
              "    }\n",
              "    20% {\n",
              "      border-color: transparent;\n",
              "      border-left-color: var(--fill-color);\n",
              "      border-top-color: var(--fill-color);\n",
              "    }\n",
              "    30% {\n",
              "      border-color: transparent;\n",
              "      border-left-color: var(--fill-color);\n",
              "      border-top-color: var(--fill-color);\n",
              "      border-right-color: var(--fill-color);\n",
              "    }\n",
              "    40% {\n",
              "      border-color: transparent;\n",
              "      border-right-color: var(--fill-color);\n",
              "      border-top-color: var(--fill-color);\n",
              "    }\n",
              "    60% {\n",
              "      border-color: transparent;\n",
              "      border-right-color: var(--fill-color);\n",
              "    }\n",
              "    80% {\n",
              "      border-color: transparent;\n",
              "      border-right-color: var(--fill-color);\n",
              "      border-bottom-color: var(--fill-color);\n",
              "    }\n",
              "    90% {\n",
              "      border-color: transparent;\n",
              "      border-bottom-color: var(--fill-color);\n",
              "    }\n",
              "  }\n",
              "</style>\n",
              "\n",
              "  <script>\n",
              "    async function quickchart(key) {\n",
              "      const quickchartButtonEl =\n",
              "        document.querySelector('#' + key + ' button');\n",
              "      quickchartButtonEl.disabled = true;  // To prevent multiple clicks.\n",
              "      quickchartButtonEl.classList.add('colab-df-spinner');\n",
              "      try {\n",
              "        const charts = await google.colab.kernel.invokeFunction(\n",
              "            'suggestCharts', [key], {});\n",
              "      } catch (error) {\n",
              "        console.error('Error during call to suggestCharts:', error);\n",
              "      }\n",
              "      quickchartButtonEl.classList.remove('colab-df-spinner');\n",
              "      quickchartButtonEl.classList.add('colab-df-quickchart-complete');\n",
              "    }\n",
              "    (() => {\n",
              "      let quickchartButtonEl =\n",
              "        document.querySelector('#df-e7904165-0d74-4ea7-94a8-c73c6ad8f7e4 button');\n",
              "      quickchartButtonEl.style.display =\n",
              "        google.colab.kernel.accessAllowed ? 'block' : 'none';\n",
              "    })();\n",
              "  </script>\n",
              "</div>\n",
              "\n",
              "    </div>\n",
              "  </div>\n"
            ],
            "application/vnd.google.colaboratory.intrinsic+json": {
              "type": "dataframe",
              "variable_name": "mydata",
              "summary": "{\n  \"name\": \"mydata\",\n  \"rows\": 505,\n  \"fields\": [\n    {\n      \"column\": \"Date\",\n      \"properties\": {\n        \"dtype\": \"date\",\n        \"min\": \"2015-03-23 00:00:00\",\n        \"max\": \"2017-03-22 00:00:00\",\n        \"num_unique_values\": 505,\n        \"samples\": [\n          \"2015-11-25 00:00:00\",\n          \"2016-04-22 00:00:00\",\n          \"2017-03-02 00:00:00\"\n        ],\n        \"semantic_type\": \"\",\n        \"description\": \"\"\n      }\n    },\n    {\n      \"column\": \"TSLA\",\n      \"properties\": {\n        \"dtype\": \"number\",\n        \"std\": 1.7392414994147176,\n        \"min\": 9.57800006866455,\n        \"max\": 18.817333221435547,\n        \"num_unique_values\": 492,\n        \"samples\": [\n          17.709999084472656,\n          16.713333129882812,\n          16.513999938964844\n        ],\n        \"semantic_type\": \"\",\n        \"description\": \"\"\n      }\n    },\n    {\n      \"column\": \"AAPL\",\n      \"properties\": {\n        \"dtype\": \"number\",\n        \"std\": 2.759117846351271,\n        \"min\": 20.7440185546875,\n        \"max\": 32.96823501586914,\n        \"num_unique_values\": 495,\n        \"samples\": [\n          28.296283721923828,\n          27.579998016357422,\n          21.837018966674805\n        ],\n        \"semantic_type\": \"\",\n        \"description\": \"\"\n      }\n    },\n    {\n      \"column\": \"NUGT\",\n      \"properties\": {\n        \"dtype\": \"number\",\n        \"std\": 148.44440709761716,\n        \"min\": 68.5757827758789,\n        \"max\": 659.9127807617188,\n        \"num_unique_values\": 472,\n        \"samples\": [\n          345.7505798339844,\n          253.85679626464844,\n          475.5506591796875\n        ],\n        \"semantic_type\": \"\",\n        \"description\": \"\"\n      }\n    },\n    {\n      \"column\": \"AMD\",\n      \"properties\": {\n        \"dtype\": \"number\",\n        \"std\": 3.5917522626365486,\n        \"min\": 1.6200000047683716,\n        \"max\": 15.199999809265137,\n        \"num_unique_values\": 311,\n        \"samples\": [\n          12.970000267028809,\n          2.759999990463257,\n          1.659999966621399\n        ],\n        \"semantic_type\": \"\",\n        \"description\": \"\"\n      }\n    }\n  ]\n}"
            }
          },
          "metadata": {},
          "execution_count": 59
        }
      ],
      "source": [
        "mydata.head()"
      ]
    },
    {
      "cell_type": "code",
      "execution_count": 60,
      "metadata": {
        "id": "DBuJCk1P9P1a",
        "outputId": "5cdc1878-05cd-462c-f076-bbb42f74258f",
        "colab": {
          "base_uri": "https://localhost:8080/",
          "height": 237
        }
      },
      "outputs": [
        {
          "output_type": "execute_result",
          "data": {
            "text/plain": [
              "                 TSLA       AAPL        NUGT    AMD\n",
              "Date                                               \n",
              "2017-03-16  17.469999  32.788776  173.066742  13.65\n",
              "2017-03-17  17.433332  32.625637  170.769424  13.49\n",
              "2017-03-20  17.461332  32.968235  176.512756  14.40\n",
              "2017-03-21  16.712000  32.590683  183.979141  13.82\n",
              "2017-03-22  17.000668  32.958920  184.362030  14.10"
            ],
            "text/html": [
              "\n",
              "  <div id=\"df-8adb9508-9758-4481-b65a-050758f32d2e\" class=\"colab-df-container\">\n",
              "    <div>\n",
              "<style scoped>\n",
              "    .dataframe tbody tr th:only-of-type {\n",
              "        vertical-align: middle;\n",
              "    }\n",
              "\n",
              "    .dataframe tbody tr th {\n",
              "        vertical-align: top;\n",
              "    }\n",
              "\n",
              "    .dataframe thead th {\n",
              "        text-align: right;\n",
              "    }\n",
              "</style>\n",
              "<table border=\"1\" class=\"dataframe\">\n",
              "  <thead>\n",
              "    <tr style=\"text-align: right;\">\n",
              "      <th></th>\n",
              "      <th>TSLA</th>\n",
              "      <th>AAPL</th>\n",
              "      <th>NUGT</th>\n",
              "      <th>AMD</th>\n",
              "    </tr>\n",
              "    <tr>\n",
              "      <th>Date</th>\n",
              "      <th></th>\n",
              "      <th></th>\n",
              "      <th></th>\n",
              "      <th></th>\n",
              "    </tr>\n",
              "  </thead>\n",
              "  <tbody>\n",
              "    <tr>\n",
              "      <th>2017-03-16</th>\n",
              "      <td>17.469999</td>\n",
              "      <td>32.788776</td>\n",
              "      <td>173.066742</td>\n",
              "      <td>13.65</td>\n",
              "    </tr>\n",
              "    <tr>\n",
              "      <th>2017-03-17</th>\n",
              "      <td>17.433332</td>\n",
              "      <td>32.625637</td>\n",
              "      <td>170.769424</td>\n",
              "      <td>13.49</td>\n",
              "    </tr>\n",
              "    <tr>\n",
              "      <th>2017-03-20</th>\n",
              "      <td>17.461332</td>\n",
              "      <td>32.968235</td>\n",
              "      <td>176.512756</td>\n",
              "      <td>14.40</td>\n",
              "    </tr>\n",
              "    <tr>\n",
              "      <th>2017-03-21</th>\n",
              "      <td>16.712000</td>\n",
              "      <td>32.590683</td>\n",
              "      <td>183.979141</td>\n",
              "      <td>13.82</td>\n",
              "    </tr>\n",
              "    <tr>\n",
              "      <th>2017-03-22</th>\n",
              "      <td>17.000668</td>\n",
              "      <td>32.958920</td>\n",
              "      <td>184.362030</td>\n",
              "      <td>14.10</td>\n",
              "    </tr>\n",
              "  </tbody>\n",
              "</table>\n",
              "</div>\n",
              "    <div class=\"colab-df-buttons\">\n",
              "\n",
              "  <div class=\"colab-df-container\">\n",
              "    <button class=\"colab-df-convert\" onclick=\"convertToInteractive('df-8adb9508-9758-4481-b65a-050758f32d2e')\"\n",
              "            title=\"Convert this dataframe to an interactive table.\"\n",
              "            style=\"display:none;\">\n",
              "\n",
              "  <svg xmlns=\"http://www.w3.org/2000/svg\" height=\"24px\" viewBox=\"0 -960 960 960\">\n",
              "    <path d=\"M120-120v-720h720v720H120Zm60-500h600v-160H180v160Zm220 220h160v-160H400v160Zm0 220h160v-160H400v160ZM180-400h160v-160H180v160Zm440 0h160v-160H620v160ZM180-180h160v-160H180v160Zm440 0h160v-160H620v160Z\"/>\n",
              "  </svg>\n",
              "    </button>\n",
              "\n",
              "  <style>\n",
              "    .colab-df-container {\n",
              "      display:flex;\n",
              "      gap: 12px;\n",
              "    }\n",
              "\n",
              "    .colab-df-convert {\n",
              "      background-color: #E8F0FE;\n",
              "      border: none;\n",
              "      border-radius: 50%;\n",
              "      cursor: pointer;\n",
              "      display: none;\n",
              "      fill: #1967D2;\n",
              "      height: 32px;\n",
              "      padding: 0 0 0 0;\n",
              "      width: 32px;\n",
              "    }\n",
              "\n",
              "    .colab-df-convert:hover {\n",
              "      background-color: #E2EBFA;\n",
              "      box-shadow: 0px 1px 2px rgba(60, 64, 67, 0.3), 0px 1px 3px 1px rgba(60, 64, 67, 0.15);\n",
              "      fill: #174EA6;\n",
              "    }\n",
              "\n",
              "    .colab-df-buttons div {\n",
              "      margin-bottom: 4px;\n",
              "    }\n",
              "\n",
              "    [theme=dark] .colab-df-convert {\n",
              "      background-color: #3B4455;\n",
              "      fill: #D2E3FC;\n",
              "    }\n",
              "\n",
              "    [theme=dark] .colab-df-convert:hover {\n",
              "      background-color: #434B5C;\n",
              "      box-shadow: 0px 1px 3px 1px rgba(0, 0, 0, 0.15);\n",
              "      filter: drop-shadow(0px 1px 2px rgba(0, 0, 0, 0.3));\n",
              "      fill: #FFFFFF;\n",
              "    }\n",
              "  </style>\n",
              "\n",
              "    <script>\n",
              "      const buttonEl =\n",
              "        document.querySelector('#df-8adb9508-9758-4481-b65a-050758f32d2e button.colab-df-convert');\n",
              "      buttonEl.style.display =\n",
              "        google.colab.kernel.accessAllowed ? 'block' : 'none';\n",
              "\n",
              "      async function convertToInteractive(key) {\n",
              "        const element = document.querySelector('#df-8adb9508-9758-4481-b65a-050758f32d2e');\n",
              "        const dataTable =\n",
              "          await google.colab.kernel.invokeFunction('convertToInteractive',\n",
              "                                                    [key], {});\n",
              "        if (!dataTable) return;\n",
              "\n",
              "        const docLinkHtml = 'Like what you see? Visit the ' +\n",
              "          '<a target=\"_blank\" href=https://colab.research.google.com/notebooks/data_table.ipynb>data table notebook</a>'\n",
              "          + ' to learn more about interactive tables.';\n",
              "        element.innerHTML = '';\n",
              "        dataTable['output_type'] = 'display_data';\n",
              "        await google.colab.output.renderOutput(dataTable, element);\n",
              "        const docLink = document.createElement('div');\n",
              "        docLink.innerHTML = docLinkHtml;\n",
              "        element.appendChild(docLink);\n",
              "      }\n",
              "    </script>\n",
              "  </div>\n",
              "\n",
              "\n",
              "<div id=\"df-f149c04d-0ba2-4949-9fff-6e8e572c5058\">\n",
              "  <button class=\"colab-df-quickchart\" onclick=\"quickchart('df-f149c04d-0ba2-4949-9fff-6e8e572c5058')\"\n",
              "            title=\"Suggest charts\"\n",
              "            style=\"display:none;\">\n",
              "\n",
              "<svg xmlns=\"http://www.w3.org/2000/svg\" height=\"24px\"viewBox=\"0 0 24 24\"\n",
              "     width=\"24px\">\n",
              "    <g>\n",
              "        <path d=\"M19 3H5c-1.1 0-2 .9-2 2v14c0 1.1.9 2 2 2h14c1.1 0 2-.9 2-2V5c0-1.1-.9-2-2-2zM9 17H7v-7h2v7zm4 0h-2V7h2v10zm4 0h-2v-4h2v4z\"/>\n",
              "    </g>\n",
              "</svg>\n",
              "  </button>\n",
              "\n",
              "<style>\n",
              "  .colab-df-quickchart {\n",
              "      --bg-color: #E8F0FE;\n",
              "      --fill-color: #1967D2;\n",
              "      --hover-bg-color: #E2EBFA;\n",
              "      --hover-fill-color: #174EA6;\n",
              "      --disabled-fill-color: #AAA;\n",
              "      --disabled-bg-color: #DDD;\n",
              "  }\n",
              "\n",
              "  [theme=dark] .colab-df-quickchart {\n",
              "      --bg-color: #3B4455;\n",
              "      --fill-color: #D2E3FC;\n",
              "      --hover-bg-color: #434B5C;\n",
              "      --hover-fill-color: #FFFFFF;\n",
              "      --disabled-bg-color: #3B4455;\n",
              "      --disabled-fill-color: #666;\n",
              "  }\n",
              "\n",
              "  .colab-df-quickchart {\n",
              "    background-color: var(--bg-color);\n",
              "    border: none;\n",
              "    border-radius: 50%;\n",
              "    cursor: pointer;\n",
              "    display: none;\n",
              "    fill: var(--fill-color);\n",
              "    height: 32px;\n",
              "    padding: 0;\n",
              "    width: 32px;\n",
              "  }\n",
              "\n",
              "  .colab-df-quickchart:hover {\n",
              "    background-color: var(--hover-bg-color);\n",
              "    box-shadow: 0 1px 2px rgba(60, 64, 67, 0.3), 0 1px 3px 1px rgba(60, 64, 67, 0.15);\n",
              "    fill: var(--button-hover-fill-color);\n",
              "  }\n",
              "\n",
              "  .colab-df-quickchart-complete:disabled,\n",
              "  .colab-df-quickchart-complete:disabled:hover {\n",
              "    background-color: var(--disabled-bg-color);\n",
              "    fill: var(--disabled-fill-color);\n",
              "    box-shadow: none;\n",
              "  }\n",
              "\n",
              "  .colab-df-spinner {\n",
              "    border: 2px solid var(--fill-color);\n",
              "    border-color: transparent;\n",
              "    border-bottom-color: var(--fill-color);\n",
              "    animation:\n",
              "      spin 1s steps(1) infinite;\n",
              "  }\n",
              "\n",
              "  @keyframes spin {\n",
              "    0% {\n",
              "      border-color: transparent;\n",
              "      border-bottom-color: var(--fill-color);\n",
              "      border-left-color: var(--fill-color);\n",
              "    }\n",
              "    20% {\n",
              "      border-color: transparent;\n",
              "      border-left-color: var(--fill-color);\n",
              "      border-top-color: var(--fill-color);\n",
              "    }\n",
              "    30% {\n",
              "      border-color: transparent;\n",
              "      border-left-color: var(--fill-color);\n",
              "      border-top-color: var(--fill-color);\n",
              "      border-right-color: var(--fill-color);\n",
              "    }\n",
              "    40% {\n",
              "      border-color: transparent;\n",
              "      border-right-color: var(--fill-color);\n",
              "      border-top-color: var(--fill-color);\n",
              "    }\n",
              "    60% {\n",
              "      border-color: transparent;\n",
              "      border-right-color: var(--fill-color);\n",
              "    }\n",
              "    80% {\n",
              "      border-color: transparent;\n",
              "      border-right-color: var(--fill-color);\n",
              "      border-bottom-color: var(--fill-color);\n",
              "    }\n",
              "    90% {\n",
              "      border-color: transparent;\n",
              "      border-bottom-color: var(--fill-color);\n",
              "    }\n",
              "  }\n",
              "</style>\n",
              "\n",
              "  <script>\n",
              "    async function quickchart(key) {\n",
              "      const quickchartButtonEl =\n",
              "        document.querySelector('#' + key + ' button');\n",
              "      quickchartButtonEl.disabled = true;  // To prevent multiple clicks.\n",
              "      quickchartButtonEl.classList.add('colab-df-spinner');\n",
              "      try {\n",
              "        const charts = await google.colab.kernel.invokeFunction(\n",
              "            'suggestCharts', [key], {});\n",
              "      } catch (error) {\n",
              "        console.error('Error during call to suggestCharts:', error);\n",
              "      }\n",
              "      quickchartButtonEl.classList.remove('colab-df-spinner');\n",
              "      quickchartButtonEl.classList.add('colab-df-quickchart-complete');\n",
              "    }\n",
              "    (() => {\n",
              "      let quickchartButtonEl =\n",
              "        document.querySelector('#df-f149c04d-0ba2-4949-9fff-6e8e572c5058 button');\n",
              "      quickchartButtonEl.style.display =\n",
              "        google.colab.kernel.accessAllowed ? 'block' : 'none';\n",
              "    })();\n",
              "  </script>\n",
              "</div>\n",
              "\n",
              "    </div>\n",
              "  </div>\n"
            ],
            "application/vnd.google.colaboratory.intrinsic+json": {
              "type": "dataframe",
              "summary": "{\n  \"name\": \"mydata\",\n  \"rows\": 5,\n  \"fields\": [\n    {\n      \"column\": \"Date\",\n      \"properties\": {\n        \"dtype\": \"date\",\n        \"min\": \"2017-03-16 00:00:00\",\n        \"max\": \"2017-03-22 00:00:00\",\n        \"num_unique_values\": 5,\n        \"samples\": [\n          \"2017-03-17 00:00:00\",\n          \"2017-03-22 00:00:00\",\n          \"2017-03-20 00:00:00\"\n        ],\n        \"semantic_type\": \"\",\n        \"description\": \"\"\n      }\n    },\n    {\n      \"column\": \"TSLA\",\n      \"properties\": {\n        \"dtype\": \"number\",\n        \"std\": 0.34362760655606456,\n        \"min\": 16.711999893188477,\n        \"max\": 17.469999313354492,\n        \"num_unique_values\": 5,\n        \"samples\": [\n          17.433332443237305,\n          17.000667572021484,\n          17.461332321166992\n        ],\n        \"semantic_type\": \"\",\n        \"description\": \"\"\n      }\n    },\n    {\n      \"column\": \"AAPL\",\n      \"properties\": {\n        \"dtype\": \"number\",\n        \"std\": 0.1781729984260862,\n        \"min\": 32.59068298339844,\n        \"max\": 32.96823501586914,\n        \"num_unique_values\": 5,\n        \"samples\": [\n          32.62563705444336,\n          32.958919525146484,\n          32.96823501586914\n        ],\n        \"semantic_type\": \"\",\n        \"description\": \"\"\n      }\n    },\n    {\n      \"column\": \"NUGT\",\n      \"properties\": {\n        \"dtype\": \"number\",\n        \"std\": 6.219174723041348,\n        \"min\": 170.76942443847656,\n        \"max\": 184.36203002929688,\n        \"num_unique_values\": 5,\n        \"samples\": [\n          170.76942443847656,\n          184.36203002929688,\n          176.51275634765625\n        ],\n        \"semantic_type\": \"\",\n        \"description\": \"\"\n      }\n    },\n    {\n      \"column\": \"AMD\",\n      \"properties\": {\n        \"dtype\": \"number\",\n        \"std\": 0.36286367402794495,\n        \"min\": 13.489999771118164,\n        \"max\": 14.399999618530273,\n        \"num_unique_values\": 5,\n        \"samples\": [\n          13.489999771118164,\n          14.100000381469727,\n          14.399999618530273\n        ],\n        \"semantic_type\": \"\",\n        \"description\": \"\"\n      }\n    }\n  ]\n}"
            }
          },
          "metadata": {},
          "execution_count": 60
        }
      ],
      "source": [
        "mydata.tail()"
      ]
    },
    {
      "cell_type": "markdown",
      "metadata": {
        "id": "FXCMTTtA9P1b"
      },
      "source": [
        "Normalización a 100:$$\\frac{P_i}{P_0}*100$$"
      ]
    },
    {
      "cell_type": "code",
      "execution_count": 61,
      "metadata": {
        "id": "NIQ87JIX9P1d",
        "outputId": "ca23ca98-502b-4c62-dea7-06b5953701c5",
        "colab": {
          "base_uri": "https://localhost:8080/"
        }
      },
      "outputs": [
        {
          "output_type": "execute_result",
          "data": {
            "text/plain": [
              "TSLA     13.308667\n",
              "AAPL     28.504995\n",
              "NUGT    459.086334\n",
              "AMD       2.840000\n",
              "Name: 2015-03-23 00:00:00, dtype: float64"
            ]
          },
          "metadata": {},
          "execution_count": 61
        }
      ],
      "source": [
        "mydata.iloc[0]"
      ]
    },
    {
      "cell_type": "code",
      "execution_count": 62,
      "metadata": {
        "id": "q21SkkQv9P1e",
        "outputId": "860b0755-8947-48b7-e7c2-960eda27243a",
        "colab": {
          "base_uri": "https://localhost:8080/",
          "height": 515
        }
      },
      "outputs": [
        {
          "output_type": "display_data",
          "data": {
            "text/plain": [
              "<Figure size 1500x600 with 1 Axes>"
            ],
            "image/png": "[encoded data removed]"
          },
          "metadata": {}
        }
      ],
      "source": [
        "(mydata / mydata.iloc[0]*100).plot(figsize=(15,6))\n",
        "plt.show()"
      ]
    },
    {
      "cell_type": "code",
      "execution_count": 63,
      "metadata": {
        "id": "MnXMc5zr9P1g",
        "outputId": "49c0f1a9-10b7-4c4a-b934-9687f1f0cf43",
        "colab": {
          "base_uri": "https://localhost:8080/",
          "height": 515
        }
      },
      "outputs": [
        {
          "output_type": "display_data",
          "data": {
            "text/plain": [
              "<Figure size 1500x600 with 1 Axes>"
            ],
            "image/png": "[encoded data removed]"
          },
          "metadata": {}
        }
      ],
      "source": [
        "mydata.plot(figsize=(15,6))\n",
        "plt.show()"
      ]
    },
    {
      "cell_type": "code",
      "execution_count": 64,
      "metadata": {
        "id": "Pf0CZPDZ9P1g",
        "outputId": "f0ed759f-9d1c-4413-c0e1-01e4ebd50229",
        "colab": {
          "base_uri": "https://localhost:8080/"
        }
      },
      "outputs": [
        {
          "output_type": "execute_result",
          "data": {
            "text/plain": [
              "TSLA     13.308667\n",
              "AAPL     28.504995\n",
              "NUGT    459.086334\n",
              "AMD       2.840000\n",
              "Name: 2015-03-23 00:00:00, dtype: float64"
            ]
          },
          "metadata": {},
          "execution_count": 64
        }
      ],
      "source": [
        "mydata.loc['2015-3-23']"
      ]
    },
    {
      "cell_type": "code",
      "execution_count": 65,
      "metadata": {
        "id": "RvT5oqr89P1h",
        "outputId": "26769825-2d44-4773-ccf8-30d0875a37eb",
        "colab": {
          "base_uri": "https://localhost:8080/"
        }
      },
      "outputs": [
        {
          "output_type": "execute_result",
          "data": {
            "text/plain": [
              "TSLA     13.308667\n",
              "AAPL     28.504995\n",
              "NUGT    459.086334\n",
              "AMD       2.840000\n",
              "Name: 2015-03-23 00:00:00, dtype: float64"
            ]
          },
          "metadata": {},
          "execution_count": 65
        }
      ],
      "source": [
        "mydata.iloc[0]"
      ]
    },
    {
      "cell_type": "markdown",
      "metadata": {
        "id": "bHbjpXhD9P1i"
      },
      "source": [
        "### Calculo de los retornos de un portafolio"
      ]
    },
    {
      "cell_type": "code",
      "execution_count": 66,
      "metadata": {
        "id": "4KExq-Zy9P1i",
        "outputId": "3523dbeb-24eb-4e48-95e6-e51e47266c19",
        "colab": {
          "base_uri": "https://localhost:8080/",
          "height": 237
        }
      },
      "outputs": [
        {
          "output_type": "execute_result",
          "data": {
            "text/plain": [
              "                TSLA      AAPL      NUGT       AMD\n",
              "Date                                              \n",
              "2015-03-23       NaN       NaN       NaN       NaN\n",
              "2015-03-24  0.010469 -0.004087 -0.014178 -0.017606\n",
              "2015-03-25 -0.036784 -0.026127 -0.041455 -0.057348\n",
              "2015-03-26 -0.020021  0.006970 -0.048544  0.007605\n",
              "2015-03-27 -0.028412 -0.007968 -0.037106  0.026415"
            ],
            "text/html": [
              "\n",
              "  <div id=\"df-39af6cae-da1b-4950-a450-041ef618f532\" class=\"colab-df-container\">\n",
              "    <div>\n",
              "<style scoped>\n",
              "    .dataframe tbody tr th:only-of-type {\n",
              "        vertical-align: middle;\n",
              "    }\n",
              "\n",
              "    .dataframe tbody tr th {\n",
              "        vertical-align: top;\n",
              "    }\n",
              "\n",
              "    .dataframe thead th {\n",
              "        text-align: right;\n",
              "    }\n",
              "</style>\n",
              "<table border=\"1\" class=\"dataframe\">\n",
              "  <thead>\n",
              "    <tr style=\"text-align: right;\">\n",
              "      <th></th>\n",
              "      <th>TSLA</th>\n",
              "      <th>AAPL</th>\n",
              "      <th>NUGT</th>\n",
              "      <th>AMD</th>\n",
              "    </tr>\n",
              "    <tr>\n",
              "      <th>Date</th>\n",
              "      <th></th>\n",
              "      <th></th>\n",
              "      <th></th>\n",
              "      <th></th>\n",
              "    </tr>\n",
              "  </thead>\n",
              "  <tbody>\n",
              "    <tr>\n",
              "      <th>2015-03-23</th>\n",
              "      <td>NaN</td>\n",
              "      <td>NaN</td>\n",
              "      <td>NaN</td>\n",
              "      <td>NaN</td>\n",
              "    </tr>\n",
              "    <tr>\n",
              "      <th>2015-03-24</th>\n",
              "      <td>0.010469</td>\n",
              "      <td>-0.004087</td>\n",
              "      <td>-0.014178</td>\n",
              "      <td>-0.017606</td>\n",
              "    </tr>\n",
              "    <tr>\n",
              "      <th>2015-03-25</th>\n",
              "      <td>-0.036784</td>\n",
              "      <td>-0.026127</td>\n",
              "      <td>-0.041455</td>\n",
              "      <td>-0.057348</td>\n",
              "    </tr>\n",
              "    <tr>\n",
              "      <th>2015-03-26</th>\n",
              "      <td>-0.020021</td>\n",
              "      <td>0.006970</td>\n",
              "      <td>-0.048544</td>\n",
              "      <td>0.007605</td>\n",
              "    </tr>\n",
              "    <tr>\n",
              "      <th>2015-03-27</th>\n",
              "      <td>-0.028412</td>\n",
              "      <td>-0.007968</td>\n",
              "      <td>-0.037106</td>\n",
              "      <td>0.026415</td>\n",
              "    </tr>\n",
              "  </tbody>\n",
              "</table>\n",
              "</div>\n",
              "    <div class=\"colab-df-buttons\">\n",
              "\n",
              "  <div class=\"colab-df-container\">\n",
              "    <button class=\"colab-df-convert\" onclick=\"convertToInteractive('df-39af6cae-da1b-4950-a450-041ef618f532')\"\n",
              "            title=\"Convert this dataframe to an interactive table.\"\n",
              "            style=\"display:none;\">\n",
              "\n",
              "  <svg xmlns=\"http://www.w3.org/2000/svg\" height=\"24px\" viewBox=\"0 -960 960 960\">\n",
              "    <path d=\"M120-120v-720h720v720H120Zm60-500h600v-160H180v160Zm220 220h160v-160H400v160Zm0 220h160v-160H400v160ZM180-400h160v-160H180v160Zm440 0h160v-160H620v160ZM180-180h160v-160H180v160Zm440 0h160v-160H620v160Z\"/>\n",
              "  </svg>\n",
              "    </button>\n",
              "\n",
              "  <style>\n",
              "    .colab-df-container {\n",
              "      display:flex;\n",
              "      gap: 12px;\n",
              "    }\n",
              "\n",
              "    .colab-df-convert {\n",
              "      background-color: #E8F0FE;\n",
              "      border: none;\n",
              "      border-radius: 50%;\n",
              "      cursor: pointer;\n",
              "      display: none;\n",
              "      fill: #1967D2;\n",
              "      height: 32px;\n",
              "      padding: 0 0 0 0;\n",
              "      width: 32px;\n",
              "    }\n",
              "\n",
              "    .colab-df-convert:hover {\n",
              "      background-color: #E2EBFA;\n",
              "      box-shadow: 0px 1px 2px rgba(60, 64, 67, 0.3), 0px 1px 3px 1px rgba(60, 64, 67, 0.15);\n",
              "      fill: #174EA6;\n",
              "    }\n",
              "\n",
              "    .colab-df-buttons div {\n",
              "      margin-bottom: 4px;\n",
              "    }\n",
              "\n",
              "    [theme=dark] .colab-df-convert {\n",
              "      background-color: #3B4455;\n",
              "      fill: #D2E3FC;\n",
              "    }\n",
              "\n",
              "    [theme=dark] .colab-df-convert:hover {\n",
              "      background-color: #434B5C;\n",
              "      box-shadow: 0px 1px 3px 1px rgba(0, 0, 0, 0.15);\n",
              "      filter: drop-shadow(0px 1px 2px rgba(0, 0, 0, 0.3));\n",
              "      fill: #FFFFFF;\n",
              "    }\n",
              "  </style>\n",
              "\n",
              "    <script>\n",
              "      const buttonEl =\n",
              "        document.querySelector('#df-39af6cae-da1b-4950-a450-041ef618f532 button.colab-df-convert');\n",
              "      buttonEl.style.display =\n",
              "        google.colab.kernel.accessAllowed ? 'block' : 'none';\n",
              "\n",
              "      async function convertToInteractive(key) {\n",
              "        const element = document.querySelector('#df-39af6cae-da1b-4950-a450-041ef618f532');\n",
              "        const dataTable =\n",
              "          await google.colab.kernel.invokeFunction('convertToInteractive',\n",
              "                                                    [key], {});\n",
              "        if (!dataTable) return;\n",
              "\n",
              "        const docLinkHtml = 'Like what you see? Visit the ' +\n",
              "          '<a target=\"_blank\" href=https://colab.research.google.com/notebooks/data_table.ipynb>data table notebook</a>'\n",
              "          + ' to learn more about interactive tables.';\n",
              "        element.innerHTML = '';\n",
              "        dataTable['output_type'] = 'display_data';\n",
              "        await google.colab.output.renderOutput(dataTable, element);\n",
              "        const docLink = document.createElement('div');\n",
              "        docLink.innerHTML = docLinkHtml;\n",
              "        element.appendChild(docLink);\n",
              "      }\n",
              "    </script>\n",
              "  </div>\n",
              "\n",
              "\n",
              "<div id=\"df-62641df6-af1b-44fb-9be2-4ed10da6a20b\">\n",
              "  <button class=\"colab-df-quickchart\" onclick=\"quickchart('df-62641df6-af1b-44fb-9be2-4ed10da6a20b')\"\n",
              "            title=\"Suggest charts\"\n",
              "            style=\"display:none;\">\n",
              "\n",
              "<svg xmlns=\"http://www.w3.org/2000/svg\" height=\"24px\"viewBox=\"0 0 24 24\"\n",
              "     width=\"24px\">\n",
              "    <g>\n",
              "        <path d=\"M19 3H5c-1.1 0-2 .9-2 2v14c0 1.1.9 2 2 2h14c1.1 0 2-.9 2-2V5c0-1.1-.9-2-2-2zM9 17H7v-7h2v7zm4 0h-2V7h2v10zm4 0h-2v-4h2v4z\"/>\n",
              "    </g>\n",
              "</svg>\n",
              "  </button>\n",
              "\n",
              "<style>\n",
              "  .colab-df-quickchart {\n",
              "      --bg-color: #E8F0FE;\n",
              "      --fill-color: #1967D2;\n",
              "      --hover-bg-color: #E2EBFA;\n",
              "      --hover-fill-color: #174EA6;\n",
              "      --disabled-fill-color: #AAA;\n",
              "      --disabled-bg-color: #DDD;\n",
              "  }\n",
              "\n",
              "  [theme=dark] .colab-df-quickchart {\n",
              "      --bg-color: #3B4455;\n",
              "      --fill-color: #D2E3FC;\n",
              "      --hover-bg-color: #434B5C;\n",
              "      --hover-fill-color: #FFFFFF;\n",
              "      --disabled-bg-color: #3B4455;\n",
              "      --disabled-fill-color: #666;\n",
              "  }\n",
              "\n",
              "  .colab-df-quickchart {\n",
              "    background-color: var(--bg-color);\n",
              "    border: none;\n",
              "    border-radius: 50%;\n",
              "    cursor: pointer;\n",
              "    display: none;\n",
              "    fill: var(--fill-color);\n",
              "    height: 32px;\n",
              "    padding: 0;\n",
              "    width: 32px;\n",
              "  }\n",
              "\n",
              "  .colab-df-quickchart:hover {\n",
              "    background-color: var(--hover-bg-color);\n",
              "    box-shadow: 0 1px 2px rgba(60, 64, 67, 0.3), 0 1px 3px 1px rgba(60, 64, 67, 0.15);\n",
              "    fill: var(--button-hover-fill-color);\n",
              "  }\n",
              "\n",
              "  .colab-df-quickchart-complete:disabled,\n",
              "  .colab-df-quickchart-complete:disabled:hover {\n",
              "    background-color: var(--disabled-bg-color);\n",
              "    fill: var(--disabled-fill-color);\n",
              "    box-shadow: none;\n",
              "  }\n",
              "\n",
              "  .colab-df-spinner {\n",
              "    border: 2px solid var(--fill-color);\n",
              "    border-color: transparent;\n",
              "    border-bottom-color: var(--fill-color);\n",
              "    animation:\n",
              "      spin 1s steps(1) infinite;\n",
              "  }\n",
              "\n",
              "  @keyframes spin {\n",
              "    0% {\n",
              "      border-color: transparent;\n",
              "      border-bottom-color: var(--fill-color);\n",
              "      border-left-color: var(--fill-color);\n",
              "    }\n",
              "    20% {\n",
              "      border-color: transparent;\n",
              "      border-left-color: var(--fill-color);\n",
              "      border-top-color: var(--fill-color);\n",
              "    }\n",
              "    30% {\n",
              "      border-color: transparent;\n",
              "      border-left-color: var(--fill-color);\n",
              "      border-top-color: var(--fill-color);\n",
              "      border-right-color: var(--fill-color);\n",
              "    }\n",
              "    40% {\n",
              "      border-color: transparent;\n",
              "      border-right-color: var(--fill-color);\n",
              "      border-top-color: var(--fill-color);\n",
              "    }\n",
              "    60% {\n",
              "      border-color: transparent;\n",
              "      border-right-color: var(--fill-color);\n",
              "    }\n",
              "    80% {\n",
              "      border-color: transparent;\n",
              "      border-right-color: var(--fill-color);\n",
              "      border-bottom-color: var(--fill-color);\n",
              "    }\n",
              "    90% {\n",
              "      border-color: transparent;\n",
              "      border-bottom-color: var(--fill-color);\n",
              "    }\n",
              "  }\n",
              "</style>\n",
              "\n",
              "  <script>\n",
              "    async function quickchart(key) {\n",
              "      const quickchartButtonEl =\n",
              "        document.querySelector('#' + key + ' button');\n",
              "      quickchartButtonEl.disabled = true;  // To prevent multiple clicks.\n",
              "      quickchartButtonEl.classList.add('colab-df-spinner');\n",
              "      try {\n",
              "        const charts = await google.colab.kernel.invokeFunction(\n",
              "            'suggestCharts', [key], {});\n",
              "      } catch (error) {\n",
              "        console.error('Error during call to suggestCharts:', error);\n",
              "      }\n",
              "      quickchartButtonEl.classList.remove('colab-df-spinner');\n",
              "      quickchartButtonEl.classList.add('colab-df-quickchart-complete');\n",
              "    }\n",
              "    (() => {\n",
              "      let quickchartButtonEl =\n",
              "        document.querySelector('#df-62641df6-af1b-44fb-9be2-4ed10da6a20b button');\n",
              "      quickchartButtonEl.style.display =\n",
              "        google.colab.kernel.accessAllowed ? 'block' : 'none';\n",
              "    })();\n",
              "  </script>\n",
              "</div>\n",
              "\n",
              "    </div>\n",
              "  </div>\n"
            ],
            "application/vnd.google.colaboratory.intrinsic+json": {
              "type": "dataframe",
              "variable_name": "returns",
              "summary": "{\n  \"name\": \"returns\",\n  \"rows\": 505,\n  \"fields\": [\n    {\n      \"column\": \"Date\",\n      \"properties\": {\n        \"dtype\": \"date\",\n        \"min\": \"2015-03-23 00:00:00\",\n        \"max\": \"2017-03-22 00:00:00\",\n        \"num_unique_values\": 505,\n        \"samples\": [\n          \"2015-11-25 00:00:00\",\n          \"2016-04-22 00:00:00\",\n          \"2017-03-02 00:00:00\"\n        ],\n        \"semantic_type\": \"\",\n        \"description\": \"\"\n      }\n    },\n    {\n      \"column\": \"TSLA\",\n      \"properties\": {\n        \"dtype\": \"number\",\n        \"std\": 0.024259087393704883,\n        \"min\": -0.10450341756812143,\n        \"max\": 0.11173506172895453,\n        \"num_unique_values\": 504,\n        \"samples\": [\n          0.008578708564050963,\n          -0.007605979610801672,\n          0.0018399484050042325\n        ],\n        \"semantic_type\": \"\",\n        \"description\": \"\"\n      }\n    },\n    {\n      \"column\": \"AAPL\",\n      \"properties\": {\n        \"dtype\": \"number\",\n        \"std\": 0.015093463566688907,\n        \"min\": -0.06570641091218665,\n        \"max\": 0.06496347749545395,\n        \"num_unique_values\": 504,\n        \"samples\": [\n          -0.0018636500674691359,\n          -0.005677548819755351,\n          -0.005937311813490664\n        ],\n        \"semantic_type\": \"\",\n        \"description\": \"\"\n      }\n    },\n    {\n      \"column\": \"NUGT\",\n      \"properties\": {\n        \"dtype\": \"number\",\n        \"std\": 0.08691952953288581,\n        \"min\": -0.30902097039306986,\n        \"max\": 0.3330663448482265,\n        \"num_unique_values\": 502,\n        \"samples\": [\n          0.08214435710490853,\n          -0.026874019353749223,\n          0.055814410676335635\n        ],\n        \"semantic_type\": \"\",\n        \"description\": \"\"\n      }\n    },\n    {\n      \"column\": \"AMD\",\n      \"properties\": {\n        \"dtype\": \"number\",\n        \"std\": 0.04567557301091979,\n        \"min\": -0.15384619839649516,\n        \"max\": 0.5229008335186689,\n        \"num_unique_values\": 462,\n        \"samples\": [\n          -0.0034965002902287434,\n          0.00432900030777672,\n          -0.004385960784535126\n        ],\n        \"semantic_type\": \"\",\n        \"description\": \"\"\n      }\n    }\n  ]\n}"
            }
          },
          "metadata": {},
          "execution_count": 66
        }
      ],
      "source": [
        "returns = (mydata / mydata.shift(1))-1\n",
        "returns.head()"
      ]
    },
    {
      "cell_type": "code",
      "execution_count": 67,
      "metadata": {
        "id": "pKpQHaxB9P1i"
      },
      "outputs": [],
      "source": [
        "weights = np.array([0.25, 0.25, 0.25, 0.25])"
      ]
    },
    {
      "cell_type": "code",
      "execution_count": 68,
      "metadata": {
        "id": "hIZB0sc49P1j",
        "outputId": "0adc3eff-d3ca-4f64-af08-d98cb0edf605",
        "colab": {
          "base_uri": "https://localhost:8080/"
        }
      },
      "outputs": [
        {
          "output_type": "execute_result",
          "data": {
            "text/plain": [
              "array([0.25, 0.25, 0.25, 0.25])"
            ]
          },
          "metadata": {},
          "execution_count": 68
        }
      ],
      "source": [
        "weights"
      ]
    },
    {
      "cell_type": "code",
      "execution_count": 69,
      "metadata": {
        "id": "zP3mSA1x9P1j",
        "outputId": "2b575fc6-bdbb-4bd5-babc-8c0af30bbd50",
        "colab": {
          "base_uri": "https://localhost:8080/"
        }
      },
      "outputs": [
        {
          "output_type": "execute_result",
          "data": {
            "text/plain": [
              "array([            nan, -6.35053977e-03, -4.04283395e-02, -1.34973769e-02,\n",
              "       -1.17679289e-02, -2.19260250e-03, -1.74995378e-02,  3.82865876e-02,\n",
              "       -1.33007879e-03,  4.83048632e-02, -2.14467519e-02,  1.15911306e-03,\n",
              "       -3.68187856e-04,  2.64399651e-02, -7.79951941e-03, -7.07718360e-03,\n",
              "        2.50196868e-02,  3.67441807e-03, -2.81809441e-02, -1.17899833e-04,\n",
              "       -5.93555891e-03, -1.59433315e-02,  2.32941016e-02, -1.68420140e-02,\n",
              "        3.91947955e-02,  1.94307393e-02,  3.72754577e-03, -3.75652852e-02,\n",
              "        1.74030033e-02,  1.01110164e-02, -1.31289541e-02, -2.22215991e-02,\n",
              "        1.63376885e-02,  8.38460610e-03,  2.84548351e-03,  1.87469950e-02,\n",
              "        1.85254845e-02,  4.43901035e-03,  4.47518692e-04,  6.27690596e-03,\n",
              "       -3.56904910e-02,  3.65228102e-03, -5.47114654e-03,  4.96236328e-04,\n",
              "       -3.48895475e-02,  1.75843152e-02,  9.44338727e-03, -3.74685477e-03,\n",
              "       -6.40898089e-03,  1.43515526e-02, -1.61603873e-02, -1.07423860e-02,\n",
              "       -8.14781141e-03,  1.00164525e-02, -1.21459627e-02,  7.92981505e-03,\n",
              "       -8.89063372e-03, -1.05438420e-02,  8.15180911e-04, -2.27659569e-03,\n",
              "        3.79275906e-02,  1.79299280e-02, -1.17997388e-02, -9.93345899e-03,\n",
              "        6.60872391e-03,  1.58158591e-03, -8.79244748e-03, -1.79866246e-02,\n",
              "       -3.06928780e-02,  7.56821160e-03, -1.41757478e-02,  3.45132261e-02,\n",
              "        2.13390331e-03, -8.33184209e-02, -3.45512546e-02, -3.02105312e-03,\n",
              "       -2.19249195e-03,  8.47077402e-03,  9.53846754e-03, -2.67666452e-02,\n",
              "       -1.28364549e-02, -3.43328243e-02, -6.42155597e-02, -4.41273016e-03,\n",
              "       -1.29210546e-02, -2.76623259e-02,  9.22282599e-03, -5.00454125e-02,\n",
              "        4.43181090e-02,  3.67297361e-02, -2.65779057e-02,  1.18296308e-02,\n",
              "       -2.14255312e-03, -9.92719193e-03, -4.15191190e-03, -9.53645184e-03,\n",
              "       -4.40354551e-03,  3.61574050e-02, -6.80409076e-03,  5.39399579e-02,\n",
              "       -4.91429455e-02, -5.98375584e-04,  3.66696068e-02, -7.52761681e-03,\n",
              "        1.12619228e-02,  1.43464798e-04, -3.55472722e-02, -8.11651041e-02,\n",
              "       -3.72496861e-02, -6.52972128e-03,  7.93347464e-02,  3.94619751e-02,\n",
              "       -1.33013456e-02, -5.57870028e-02,  2.32481076e-02, -1.71217287e-02,\n",
              "        6.52226126e-04,  2.86626984e-02, -2.93830835e-02,  1.84360331e-03,\n",
              "        3.32099953e-02, -2.56568988e-02,  1.08244902e-02,  5.32830545e-02,\n",
              "        1.63256238e-02,  6.10048341e-03, -2.42131708e-02, -5.18671427e-02,\n",
              "       -8.55565287e-03,  5.77069242e-02, -1.80462029e-02, -5.51865739e-02,\n",
              "       -4.05498512e-03,  2.87063715e-02, -2.37357609e-02,  8.21225190e-02,\n",
              "        2.78489523e-02,  2.84139123e-02, -9.66936926e-03, -8.82866387e-03,\n",
              "        4.34016961e-02, -3.97066791e-02,  1.55573371e-02,  4.48721032e-02,\n",
              "        1.18528964e-02, -2.13341294e-02, -1.86063451e-02,  1.69338943e-02,\n",
              "       -1.47882619e-02,  2.32260862e-02,  3.11790893e-02, -2.96420274e-02,\n",
              "       -6.76079198e-03,  8.10619480e-03, -3.86025072e-02, -1.68165646e-02,\n",
              "        2.26516085e-02,  1.50207409e-03,  1.89603882e-03, -2.71695823e-02,\n",
              "       -3.73758997e-02,  5.48063267e-03, -4.74198931e-02,  1.66217112e-02,\n",
              "       -2.63238346e-02, -6.68560303e-03,  1.84678701e-02, -3.65987871e-02,\n",
              "        5.47965030e-02,  3.26380861e-02, -1.95195974e-02, -1.09203289e-02,\n",
              "        4.38154326e-02,  9.68556957e-03, -1.70205248e-02,  1.68055964e-02,\n",
              "        2.67558952e-02, -3.39925921e-02,  8.13178245e-03,  5.03068432e-02,\n",
              "       -2.27819120e-02, -7.23306573e-03, -3.31308030e-03,  1.23362541e-02,\n",
              "       -1.93539742e-02, -4.23916410e-02,  2.57773739e-03,  6.53082420e-02,\n",
              "       -4.83351413e-02, -5.27725757e-03,  2.78803953e-02,  1.62466214e-02,\n",
              "        2.43508758e-02,  2.30729957e-02, -2.10201218e-02,  1.95936351e-02,\n",
              "       -1.88264902e-02, -9.93446632e-03, -4.37123384e-03, -1.18410756e-02,\n",
              "       -1.99700827e-02, -4.48001612e-03, -3.75555929e-02, -6.48450450e-03,\n",
              "       -4.43522981e-03, -3.40648094e-02, -1.68327731e-02, -3.12644343e-02,\n",
              "       -4.49822358e-02, -5.16854658e-03,  4.29272986e-02,  1.38839297e-02,\n",
              "        1.92067826e-02,  2.59243165e-02, -3.12928866e-03, -1.84594100e-02,\n",
              "        4.11007504e-02,  2.10417170e-02, -5.69824284e-02,  5.62728481e-02,\n",
              "        4.67004402e-02,  3.94035254e-03, -9.12074452e-03, -3.12410298e-02,\n",
              "       -1.97224758e-03,  6.63794676e-02,  1.76752005e-02, -5.01210452e-02,\n",
              "        5.87930607e-02,  3.91464349e-02, -2.08672085e-02,  3.77851352e-02,\n",
              "        3.14268480e-03,  2.03926877e-02,  2.64297453e-02, -1.73265389e-02,\n",
              "        3.59354256e-02, -2.22153534e-02,  3.73453341e-02,  5.74731962e-02,\n",
              "       -2.26880203e-03,  3.83426897e-02, -5.76865928e-02,  5.73224515e-03,\n",
              "        2.98921619e-02,  1.85732757e-02, -1.56127554e-03,  2.99852035e-03,\n",
              "        7.21782525e-02,  5.08082138e-03,  2.53324613e-02, -5.64971485e-03,\n",
              "       -2.76976345e-03, -8.01226796e-02,  3.09077703e-02,  2.65715467e-04,\n",
              "        5.45688069e-02, -1.02826119e-02, -8.09610606e-03,  1.42153196e-02,\n",
              "       -8.67024499e-03,  2.12530217e-02,  1.74496348e-02, -4.66212981e-03,\n",
              "        2.57170856e-02,  4.73388453e-02,  1.19614541e-02, -1.11023534e-02,\n",
              "       -3.13266018e-02,  1.63103731e-02, -8.40980767e-04,  1.55119911e-02,\n",
              "       -2.70384083e-03,  1.17943184e-03,  1.14841419e-01, -4.20063104e-02,\n",
              "        3.31075783e-02, -5.20581598e-03,  1.37086202e-02,  3.39301168e-02,\n",
              "        1.21788000e-03, -3.57099375e-02, -5.15591010e-02,  1.54396790e-02,\n",
              "        3.36952252e-02, -5.65794518e-02,  2.77882837e-02,  1.87137266e-02,\n",
              "       -2.76506677e-02,  1.42621098e-02,  3.22265269e-02,  5.07402408e-03,\n",
              "       -4.51215290e-02,  1.17044583e-02,  1.69718622e-02,  1.03141486e-03,\n",
              "       -2.46751910e-02,  2.25315853e-02,  1.70713809e-02, -8.35222200e-03,\n",
              "        5.12252120e-03, -1.07232105e-02, -1.14699616e-02,  7.90955984e-02,\n",
              "        2.53247386e-02,  7.60579229e-03,  2.44485585e-02,  9.96410253e-03,\n",
              "       -3.54709618e-02, -1.31356524e-03, -1.98114912e-02,  3.32451908e-02,\n",
              "       -3.34839429e-03,  2.66689706e-02, -7.69465567e-03, -1.69228169e-03,\n",
              "       -3.02254987e-02,  3.16628410e-03,  1.67503285e-02,  4.41072622e-03,\n",
              "        1.77980844e-02,  2.82164210e-02,  2.00446914e-02,  3.86778032e-02,\n",
              "        5.44853326e-03,  2.86370348e-02, -2.09329964e-02,  3.02383152e-02,\n",
              "        7.44982830e-03, -2.12572834e-02,  1.70110456e-02,  4.17457610e-03,\n",
              "       -1.10434399e-02,  3.08102994e-02, -1.36698901e-02, -4.01110702e-02,\n",
              "        4.82067420e-03,  2.80860489e-02,  1.57488272e-02,  2.72405721e-02,\n",
              "        4.44760671e-02,  3.87787770e-03,  2.60689945e-02,  5.27631317e-04,\n",
              "       -1.21698642e-02, -5.31963923e-03,  1.99338777e-02, -1.51739082e-02,\n",
              "        6.72654665e-03,  8.29192312e-03,  2.66999359e-03, -2.41643115e-03,\n",
              "        6.25039023e-03,  6.54316298e-03, -9.94108546e-03, -1.51734140e-02,\n",
              "        2.26055328e-02,  3.67294058e-03, -1.78318454e-02, -4.99128174e-03,\n",
              "       -6.57616703e-02,  7.76942536e-03,  1.30756893e-03, -7.87450265e-03,\n",
              "       -4.57372979e-02, -1.49020793e-02,  1.42253235e-02,  2.99976262e-02,\n",
              "        3.75642530e-02, -2.05738979e-02, -5.03582316e-02, -6.30945191e-02,\n",
              "        2.99368920e-02, -3.23559362e-02,  2.12884861e-02,  1.78085305e-02,\n",
              "       -1.14831397e-03,  6.61853505e-03, -2.62230438e-03,  5.69653771e-02,\n",
              "        3.63269192e-03, -1.46933042e-02, -1.29622615e-02, -8.06094658e-03,\n",
              "        2.01634946e-02, -1.30121112e-02,  8.64906296e-03, -2.13926890e-03,\n",
              "       -7.40023231e-02, -6.82771182e-03, -2.19362692e-02, -8.35655989e-03,\n",
              "        1.76254026e-02, -3.17319744e-02,  2.49072284e-02,  6.15952340e-03,\n",
              "       -7.96990539e-03,  4.18930460e-03,  3.58732347e-02,  2.66411840e-02,\n",
              "       -1.11680037e-04, -2.01388610e-02,  7.73208378e-03,  3.51340602e-02,\n",
              "       -2.84047814e-02, -1.90062021e-02, -5.13916811e-04,  1.94839245e-02,\n",
              "        7.18401062e-04, -2.56235884e-02,  1.00149644e-02, -1.15735580e-02,\n",
              "       -5.39501337e-03,  1.74570573e-03,  1.03506480e-02, -9.10214189e-02,\n",
              "       -4.00133168e-02, -5.01667233e-03,  4.36870881e-02,  2.57646129e-02,\n",
              "        1.43649602e-02, -5.56723049e-03,  2.40734970e-02,  5.28631067e-03,\n",
              "       -3.26846095e-02,  8.88669712e-03,  2.89683187e-02, -1.21451726e-02,\n",
              "       -1.68806676e-02, -3.31514269e-02,  3.00940303e-02,  8.76822260e-03,\n",
              "        1.84085729e-02,  2.41891287e-02,  2.17385991e-02, -2.32931557e-02,\n",
              "        9.39530915e-03,  1.86338111e-02, -3.52819865e-02, -2.81393021e-02,\n",
              "        6.67603179e-04,  1.23553913e-02,  2.17575022e-02, -1.93886195e-03,\n",
              "        8.43970163e-04,  1.67976774e-02,  3.86507230e-02,  2.91149287e-03,\n",
              "        5.30617500e-02, -4.04578619e-02,  3.79707404e-02,  1.58926045e-02,\n",
              "        4.13718650e-02, -1.86201294e-02,  1.14920368e-02,  2.17588125e-03,\n",
              "       -5.62597002e-03, -9.17166939e-03,  8.18966661e-03,  1.62121229e-03,\n",
              "       -6.52685857e-03, -2.55221704e-03,  9.35194004e-03,  2.92595921e-02,\n",
              "        2.09051231e-02, -9.60423299e-03, -1.66176743e-02,  1.50238220e-02,\n",
              "       -5.82538394e-03,  1.82417728e-02,  5.15132247e-02,  2.23594920e-02,\n",
              "        4.09656962e-03,  6.55252311e-02, -7.72591630e-03,  1.87523780e-02,\n",
              "       -1.30851617e-02,  1.28838623e-02,  1.86277825e-03, -1.27944814e-03,\n",
              "       -2.60812576e-05, -7.91212416e-03, -5.06050381e-03,  1.77940760e-02,\n",
              "       -7.14545907e-03, -1.46352330e-02, -9.59484283e-03, -3.10474134e-02,\n",
              "       -7.45021232e-03,  1.82674521e-02, -5.39713929e-02, -4.64051720e-03,\n",
              "       -1.93308600e-02, -6.50072296e-03, -4.21252901e-03, -8.00674766e-03,\n",
              "        3.03505420e-02,  1.92893317e-02, -1.34229889e-02,  5.39089071e-02,\n",
              "       -6.04131246e-03, -8.01752064e-03,  2.82991112e-02, -1.30860446e-02,\n",
              "        1.27284005e-02])"
            ]
          },
          "metadata": {},
          "execution_count": 69
        }
      ],
      "source": [
        "np.dot(returns,weights)"
      ]
    },
    {
      "cell_type": "code",
      "execution_count": 70,
      "metadata": {
        "id": "uibNP6Kk9P1j",
        "outputId": "107ba253-2e2f-42fd-bf38-c6ef41be121f",
        "colab": {
          "base_uri": "https://localhost:8080/"
        }
      },
      "outputs": [
        {
          "output_type": "execute_result",
          "data": {
            "text/plain": [
              "TSLA    0.195163\n",
              "AAPL    0.100478\n",
              "NUGT    0.503194\n",
              "AMD     1.037816\n",
              "dtype: float64"
            ]
          },
          "metadata": {},
          "execution_count": 70
        }
      ],
      "source": [
        "annual_returns= returns.mean()*250\n",
        "annual_returns"
      ]
    },
    {
      "cell_type": "code",
      "execution_count": 71,
      "metadata": {
        "id": "BS5r4_zu9P1j",
        "outputId": "39360147-284e-4c0a-c187-3c07ed150794",
        "colab": {
          "base_uri": "https://localhost:8080/"
        }
      },
      "outputs": [
        {
          "output_type": "execute_result",
          "data": {
            "text/plain": [
              "0.45916263997020706"
            ]
          },
          "metadata": {},
          "execution_count": 71
        }
      ],
      "source": [
        "np.dot(annual_returns, weights)"
      ]
    },
    {
      "cell_type": "code",
      "execution_count": 72,
      "metadata": {
        "id": "-uw2MskC9P1j",
        "outputId": "8faa8696-54ba-4f10-9a94-8eefee728cea",
        "colab": {
          "base_uri": "https://localhost:8080/"
        }
      },
      "outputs": [
        {
          "output_type": "stream",
          "name": "stdout",
          "text": [
            "45.916000000000004%\n"
          ]
        }
      ],
      "source": [
        "pfolio_1 = str(round(np.dot(annual_returns, weights), 5)* 100) + '%'\n",
        "print(pfolio_1)"
      ]
    },
    {
      "cell_type": "code",
      "execution_count": 73,
      "metadata": {
        "id": "zsnSRSkQ9P1k"
      },
      "outputs": [],
      "source": [
        "weights_2= np.array([0.4, 0.4, 0.15, 0.05])"
      ]
    },
    {
      "cell_type": "code",
      "execution_count": 53,
      "metadata": {
        "id": "iYFMTC7T9P1k",
        "outputId": "bd443035-7176-4aec-d40a-32dba03aff6b",
        "colab": {
          "base_uri": "https://localhost:8080/"
        }
      },
      "outputs": [
        {
          "output_type": "stream",
          "name": "stdout",
          "text": [
            "-3.8629999999999995%\n",
            "14.607000000000001%\n"
          ]
        }
      ],
      "source": [
        "pfolio_2 = str(round(np.dot(annual_returns, weights_2), 5)* 100) + '%'\n",
        "print(pfolio_1)\n",
        "print(pfolio_2)"
      ]
    },
    {
      "cell_type": "code",
      "execution_count": 76,
      "metadata": {
        "id": "PvZsbkDe9P1k"
      },
      "outputs": [],
      "source": [
        "weights_3= np.array([0.30, 0.30, 0.30, 0.10])"
      ]
    },
    {
      "cell_type": "code",
      "source": [
        "pfolio_3 = str(round(np.dot(annual_returns, weights_2), 5)* 100) + '%'\n",
        "print(pfolio_1)\n",
        "print(pfolio_2)\n",
        "print(pfolio_3)"
      ],
      "metadata": {
        "id": "2n6EUFKHEd-Y",
        "outputId": "74e60db3-e202-4b9b-d426-c2681601c64f",
        "colab": {
          "base_uri": "https://localhost:8080/"
        }
      },
      "execution_count": 77,
      "outputs": [
        {
          "output_type": "stream",
          "name": "stdout",
          "text": [
            "45.916000000000004%\n",
            "14.607000000000001%\n",
            "24.563%\n"
          ]
        }
      ]
    },
    {
      "cell_type": "code",
      "source": [
        "import pandas as pd\n",
        "import numpy as np\n",
        "import yfinance as yf\n",
        "from scipy.optimize import minimize\n",
        "\n",
        "# Descargar datos de Yahoo Finance\n",
        "tickers = ['TSLA', 'AAPL', 'NUGT', 'AMD']\n",
        "data = yf.download(tickers, start='2020-01-01', end='2021-01-01')['Adj Close']\n",
        "\n",
        "# Calcular retornos diarios\n",
        "returns = data.pct_change().dropna()\n",
        "\n",
        "# Calcular estadísticas de los retornos\n",
        "mean_returns = returns.mean()\n",
        "cov_matrix = returns.cov()\n",
        "\n",
        "# Función para calcular el rendimiento del portafolio\n",
        "def portfolio_return(weights, mean_returns):\n",
        "    return np.sum(mean_returns * weights)\n",
        "\n",
        "# Función para calcular la volatilidad del portafolio\n",
        "def portfolio_volatility(weights, cov_matrix):\n",
        "    return np.sqrt(np.dot(weights.T, np.dot(cov_matrix, weights)))\n",
        "\n",
        "# Función objetivo para maximizar el ratio de Sharpe\n",
        "def sharpe_ratio(weights, mean_returns, cov_matrix, risk_free_rate=0):\n",
        "    p_return = portfolio_return(weights, mean_returns)\n",
        "    p_volatility = portfolio_volatility(weights, cov_matrix)\n",
        "    return -(p_return - risk_free_rate) / p_volatility\n",
        "\n",
        "# Restricciones y límites para la optimización\n",
        "constraints = ({'type': 'eq', 'fun': lambda weights: np.sum(weights) - 1})\n",
        "bounds = tuple((0, 1) for _ in range(len(tickers)))\n",
        "\n",
        "# Pesos iniciales\n",
        "initial_weights = np.array([0.25, 0.25, 0.25, 0.25])\n",
        "\n",
        "# Optimización\n",
        "optimized = minimize(sharpe_ratio, initial_weights, args=(mean_returns, cov_matrix),\n",
        "                     method='SLSQP', bounds=bounds, constraints=constraints)\n",
        "\n",
        "# Pesos óptimos\n",
        "optimal_weights = optimized.x\n",
        "\n",
        "# Convertir los pesos a porcentajes\n",
        "optimal_weights_percentages = optimal_weights * 100\n",
        "\n",
        "# Resultados\n",
        "print(\"Pesos óptimos (en porcentajes):\")\n",
        "for ticker, weight in zip(tickers, optimal_weights_percentages):\n",
        "    print(f\"{ticker}: {weight:.2f}%\")\n",
        "\n",
        "# Mostrar el rendimiento esperado y el riesgo del portafolio\n",
        "print(\"\\nRendimiento esperado del portafolio:\", portfolio_return(optimal_weights, mean_returns))\n",
        "print(\"Volatilidad del portafolio:\", portfolio_volatility(optimal_weights, cov_matrix))\n",
        "\n",
        "# Calcular el ratio de Sharpe óptimo\n",
        "optimal_sharpe_ratio = -sharpe_ratio(optimal_weights, mean_returns, cov_matrix)\n",
        "print(\"Ratio de Sharpe óptimo:\", optimal_sharpe_ratio)\n",
        "\n"
      ],
      "metadata": {
        "id": "6iNEDvVUFqgI",
        "outputId": "8d1bb2de-dcb2-46ee-99b3-94b3f4f2bf00",
        "colab": {
          "base_uri": "https://localhost:8080/"
        }
      },
      "execution_count": 89,
      "outputs": [
        {
          "output_type": "stream",
          "name": "stderr",
          "text": [
            "[*********************100%%**********************]  4 of 4 completed\n"
          ]
        },
        {
          "output_type": "stream",
          "name": "stdout",
          "text": [
            "Pesos óptimos (en porcentajes):\n",
            "TSLA: 10.44%\n",
            "AAPL: 1.24%\n",
            "NUGT: 0.00%\n",
            "AMD: 88.33%\n",
            "\n",
            "Rendimiento esperado del portafolio: 0.009133652813741407\n",
            "Volatilidad del portafolio: 0.05152013145964079\n",
            "Ratio de Sharpe óptimo: 0.17728318144716723\n"
          ]
        }
      ]
    }
  ],
  "metadata": {
    "kernelspec": {
      "display_name": "Python 3",
      "language": "python",
      "name": "python3"
    },
    "language_info": {
      "codemirror_mode": {
        "name": "ipython",
        "version": 3
      },
      "file_extension": ".py",
      "mimetype": "text/x-python",
      "name": "python",
      "nbconvert_exporter": "python",
      "pygments_lexer": "ipython3",
      "version": "3.7.3"
    },
    "colab": {
      "provenance": []
    }
  },
  "nbformat": 4,
  "nbformat_minor": 0
}