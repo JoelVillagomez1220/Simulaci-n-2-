{
  "nbformat": 4,
  "nbformat_minor": 0,
  "metadata": {
    "colab": {
      "provenance": [],
      "authorship_tag": "ABX9TyPdNBbMrLH7uWOhSyD0Bykw",
      "include_colab_link": true
    },
    "kernelspec": {
      "name": "python3",
      "display_name": "Python 3"
    },
    "language_info": {
      "name": "python"
    }
  },
  "cells": [
    {
      "cell_type": "markdown",
      "metadata": {
        "id": "view-in-github",
        "colab_type": "text"
      },
      "source": [
        "<a href=\"https://colab.research.google.com/github/JoelVillagomez1220/Simulaci-n-2-/blob/main/Turtle.ipynb\" target=\"_parent\"><img src=\"https://colab.research.google.com/assets/colab-badge.svg\" alt=\"Open In Colab\"/></a>"
      ]
    },
    {
      "cell_type": "code",
      "execution_count": null,
      "metadata": {
        "id": "J70_0oHCUDnN"
      },
      "outputs": [],
      "source": [
        "#Villagómez de Alba Joel Ricardo\n",
        "#Libreria Turtle\n",
        "\n",
        "\n",
        "import turtle\n",
        "\n",
        "# Crea una ventana para dibujar\n",
        "ventana = turtle.Screen()\n",
        "\n",
        "# Crea una tortuga\n",
        "tortuga = turtle.Turtle()\n",
        "\n",
        "# Dibuja un cuadrado\n",
        "for _ in range(4):\n",
        "    tortuga.forward(100)  # Avanza 100 unidades\n",
        "    tortuga.left(90)  # Gira 90 grados hacia la izquierda\n",
        "\n",
        "# Dibuja un círculo\n",
        "tortuga.penup()  # Levanta el lápiz para no dejar rastro\n",
        "tortuga.goto(0, -50)  # Mueve la tortuga al centro del círculo\n",
        "tortuga.pendown()  # Baja el lápiz para empezar a dibujar\n",
        "tortuga.circle(50)  # Dibuja un círculo con radio 50\n",
        "\n",
        "ventana.mainloop()"
      ]
    }
  ]
}